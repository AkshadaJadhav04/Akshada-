{
 "cells": [
  {
   "cell_type": "code",
   "execution_count": 4,
   "id": "3b9758ba-2749-4a1c-95a1-c969b54f6715",
   "metadata": {},
   "outputs": [
    {
     "name": "stdin",
     "output_type": "stream",
     "text": [
      "Enter  next rating(1-5),-1 for done 1\n",
      "Enter  next rating(1-5),-1 for done 2\n",
      "Enter  next rating(1-5),-1 for done 3\n",
      "Enter  next rating(1-5),-1 for done 4\n",
      "Enter  next rating(1-5),-1 for done 5\n",
      "Enter  next rating(1-5),-1 for done -1\n"
     ]
    },
    {
     "name": "stdout",
     "output_type": "stream",
     "text": [
      "the average star rating  for new coffee is:3.00\n"
     ]
    }
   ],
   "source": [
    "sum=count=done=0\n",
    "average=0.0\n",
    "while(done!= -1):\n",
    "    rating=float(input(\"Enter  next rating(1-5),-1 for done\"))\n",
    "    if rating == -1:\n",
    "        break\n",
    "    sum+= rating\n",
    "    count+=1\n",
    "average=float(sum/count)\n",
    "print(\"the average star rating  for new coffee is:{:.2f}\".format(average))"
   ]
  },
  {
   "cell_type": "code",
   "execution_count": 8,
   "id": "345e0c28-fde1-402c-8b8e-ee5a896172d3",
   "metadata": {},
   "outputs": [
    {
     "name": "stdout",
     "output_type": "stream",
     "text": [
      "v:123.46\n",
      "v:123.40\n",
      "v:    1.46\n",
      "v:00001.46\n"
     ]
    }
   ],
   "source": [
    "print('v:{:.2f}'.format(123.456))\n",
    "print('v:{:.2f}'.format(123.4))\n",
    "print('v:{:8.2f}'.format(1.45678))\n",
    "print('v:{:08.2f}'.format(1.45678))"
   ]
  },
  {
   "cell_type": "code",
   "execution_count": 19,
   "id": "94b4d8cc-6a11-4be8-bc69-758b065d591e",
   "metadata": {},
   "outputs": [
    {
     "name": "stdin",
     "output_type": "stream",
     "text": [
      "Enter your name akshada jadhav\n",
      "Enter you score:(-1 to end) 52\n",
      "Enter you score:(-1 to end) 56\n",
      "Enter you score:(-1 to end) 52\n",
      "Enter you score:(-1 to end) 58\n",
      "Enter you score:(-1 to end) 59\n",
      "Enter you score:(-1 to end) -1\n"
     ]
    },
    {
     "name": "stdout",
     "output_type": "stream",
     "text": [
      "akshada jadhav      ,your score is : 55.4\n"
     ]
    }
   ],
   "source": [
    "name=input(\"Enter your name\")\n",
    "score=0\n",
    "count=0\n",
    "sum=0\n",
    "while (score != -1):\n",
    "    score=int(input(\"Enter you score:(-1 to end)\"))\n",
    "    if score == -1:\n",
    "        break\n",
    "    sum+= score\n",
    "    count += 1\n",
    "average_score=sum/count\n",
    "print(\"%-20s,your score is : %4.1f\"%(name ,average_score))\n",
    "                    \n",
    "                    \n",
    "    "
   ]
  },
  {
   "cell_type": "code",
   "execution_count": null,
   "id": "95d278f5-763f-4d58-9f29-e4a3bd4b7d57",
   "metadata": {},
   "outputs": [],
   "source": [
    "numbers=[0,1,2,3,4,5,6,7,8]\n",
    "index=0\n",
    "while(index<10):\n",
    "    print(numbers[index])\n",
    "if numbers[index]==6:\n",
    "    break\n",
    "else:\n",
    "    index += 1\n",
    "\n"
   ]
  },
  {
   "cell_type": "code",
   "execution_count": 5,
   "id": "cc6269d2-be6d-4edb-b1fc-2c7b12ef1bb1",
   "metadata": {},
   "outputs": [
    {
     "name": "stdin",
     "output_type": "stream",
     "text": [
      "Enter the employee number(dd_dd_dddd): 12 233 2024\n"
     ]
    },
    {
     "name": "stdout",
     "output_type": "stream",
     "text": [
      "False\n"
     ]
    }
   ],
   "source": [
    "e_no=input(\"Enter the employee number(dd_dd_dddd):\")\n",
    "parts=e_no.split(\"_\")\n",
    "valid=False\n",
    "if len(parts)==3:\n",
    "    if len(parts[0])==2 and len(parts[1])==3 and len(parts[2])==4:\n",
    "        if len(parts[0])==isdigit() and len(parts[1])==isdigit() and len(parts[2])==isdigit():\n",
    "            valid=True\n",
    "print(valid)"
   ]
  },
  {
   "cell_type": "code",
   "execution_count": 6,
   "id": "0632c262-5982-42e5-95eb-eb8dfdb8e071",
   "metadata": {},
   "outputs": [],
   "source": [
    "def var(a,b):\n",
    "    if a>=0:\n",
    "        answer=a**(1/b)\n",
    "    elif a%2 ==0:\n",
    "        answer=\"result is an imaginary no\"\n",
    "    else:\n",
    "        answer=-(-a)**(1/b)\n",
    "\n",
    "    return answer\n",
    "        "
   ]
  },
  {
   "cell_type": "code",
   "execution_count": 8,
   "id": "5cce0a05-8383-4346-8c01-ee82728f5528",
   "metadata": {},
   "outputs": [
    {
     "data": {
      "text/plain": [
       "1.4677992676220695"
      ]
     },
     "execution_count": 8,
     "metadata": {},
     "output_type": "execute_result"
    }
   ],
   "source": [
    "var(10,6)\n"
   ]
  },
  {
   "cell_type": "code",
   "execution_count": 10,
   "id": "1f93f198-7702-40b8-80c4-edc0ed479dc1",
   "metadata": {},
   "outputs": [
    {
     "data": {
      "text/plain": [
       "'result is an imaginary no'"
      ]
     },
     "execution_count": 10,
     "metadata": {},
     "output_type": "execute_result"
    }
   ],
   "source": [
    "var(-2,-3)"
   ]
  },
  {
   "cell_type": "code",
   "execution_count": 11,
   "id": "ea1114f9-d044-4d99-b10f-715f0b23663c",
   "metadata": {},
   "outputs": [
    {
     "data": {
      "text/plain": [
       "-1.0"
      ]
     },
     "execution_count": 11,
     "metadata": {},
     "output_type": "execute_result"
    }
   ],
   "source": [
    "var(-1,3)"
   ]
  },
  {
   "cell_type": "code",
   "execution_count": 15,
   "id": "93b8d845-4515-4388-9e55-cf24a9f44102",
   "metadata": {},
   "outputs": [
    {
     "name": "stdin",
     "output_type": "stream",
     "text": [
      "Enter the day of Week: Tuesday\n"
     ]
    },
    {
     "name": "stdout",
     "output_type": "stream",
     "text": [
      "20\n"
     ]
    }
   ],
   "source": [
    "d=input(\"Enter the day of Week:\")\n",
    "discount_percentage = 6\n",
    "\n",
    "if d== \"Monday\":\n",
    "    discount_percentage +=5\n",
    "\n",
    "if d== \"Tuesday\":\n",
    "    discount_percentage +=12\n",
    "\n",
    "if d== \"Saturday\":\n",
    "    discount_percentage +=5\n",
    "\n",
    "if d== \"Sunday\":\n",
    "    discount_percentage +=13\n",
    "\n",
    "else:\n",
    "    discount_percentage += 2\n",
    "    \n",
    "    \n",
    "print(discount_percentage)\n"
   ]
  },
  {
   "cell_type": "code",
   "execution_count": 17,
   "id": "831812ba-c89d-4f4b-859d-9689cb904e07",
   "metadata": {},
   "outputs": [
    {
     "name": "stdin",
     "output_type": "stream",
     "text": [
      "Enter loan amount 50000\n"
     ]
    },
    {
     "name": "stdout",
     "output_type": "stream",
     "text": [
      "10\n"
     ]
    }
   ],
   "source": [
    "amount=float(input(\"Enter loan amount\"))\n",
    "interest_rate=0\n",
    "if amount >0 and amount <= 50000:\n",
    "    interest_rate=10\n",
    "\n",
    "elif amount0 > 50000 and amount< 100000:\n",
    "    interest_rate=12\n",
    "\n",
    "elif amount0 > 10000 and amount< 150000:\n",
    "    interest_rate=16\n",
    "\n",
    "else:\n",
    "    interest_rate=22\n",
    "\n",
    "print(interest_rate)"
   ]
  },
  {
   "cell_type": "code",
   "execution_count": 5,
   "id": "c27ec71f-6c37-49cf-a4bd-773b4a4d3a77",
   "metadata": {},
   "outputs": [
    {
     "name": "stdin",
     "output_type": "stream",
     "text": [
      "Enter the no of days for leave: 5\n",
      "Enter the cause sick\n"
     ]
    },
    {
     "name": "stdout",
     "output_type": "stream",
     "text": [
      "Needs Director  Approval\n"
     ]
    }
   ],
   "source": [
    "days=int(input(\"Enter the no of days for leave:\"))\n",
    "cause=input(\"Enter the cause\")\n",
    "if days==1:\n",
    "    print(\"leave will be approved immediately\")\n",
    "elif days>1 and days<=3:\n",
    "    if cause==\"sick\":\n",
    "        print(\"leave will be approved immediately:\")\n",
    "    else:\n",
    "        print(\"Needs lead approval\")\n",
    "\n",
    "elif days>3 and days<5:\n",
    "    if cause==\"personal\":\n",
    "        print(\"Needs Manager approval\")\n",
    "    else:\n",
    "        print(\"Needs Director Approval\")\n",
    "\n",
    "elif days>=5 and days<=10:\n",
    "    print(\"Needs Director  Approval\")\n",
    "    \n",
    "   \n",
    "\n",
    "\n",
    "\n",
    "\n"
   ]
  },
  {
   "cell_type": "code",
   "execution_count": 8,
   "id": "64fc7940-e8eb-4f4e-90af-2350fb28fb90",
   "metadata": {},
   "outputs": [
    {
     "name": "stdout",
     "output_type": "stream",
     "text": [
      "C\n"
     ]
    }
   ],
   "source": [
    "marks=[30,40,50,45,50,100]\n",
    "average=sum(marks)//len(marks)\n",
    "grades={1:'A',2:'B',3:'C',4:'D'}\n",
    "\n",
    "if average>=90 and average<=100:\n",
    "    key=1\n",
    "\n",
    "elif average>=80 and average<90:\n",
    "    key=2\n",
    "\n",
    "elif average>=50 and average<80:\n",
    "    key=3\n",
    "\n",
    "else:\n",
    "    key=4\n",
    "\n",
    "print(grades[key])"
   ]
  },
  {
   "cell_type": "code",
   "execution_count": 9,
   "id": "71615aab-9cfe-4c65-8729-41bb9de73069",
   "metadata": {},
   "outputs": [],
   "source": [
    "a=12\n",
    "b=4\n",
    "s=\"He shall not be happy if he does not do work\""
   ]
  },
  {
   "cell_type": "code",
   "execution_count": 13,
   "id": "384151d2-3210-438e-b764-93e347d88edb",
   "metadata": {},
   "outputs": [],
   "source": [
    "result =s.find(\"not\")if s else None"
   ]
  },
  {
   "cell_type": "code",
   "execution_count": 14,
   "id": "3f5bf5ab-90a7-4b53-85bc-69ae16ec9862",
   "metadata": {},
   "outputs": [
    {
     "data": {
      "text/plain": [
       "9"
      ]
     },
     "execution_count": 14,
     "metadata": {},
     "output_type": "execute_result"
    }
   ],
   "source": [
    "result"
   ]
  },
  {
   "cell_type": "code",
   "execution_count": 15,
   "id": "2d5a74c0-51c3-47c8-9a57-75ee6686f948",
   "metadata": {},
   "outputs": [],
   "source": [
    "result =s.rfind(\"not\")if s else None"
   ]
  },
  {
   "cell_type": "code",
   "execution_count": 16,
   "id": "bf4975ad-1b18-44f9-832c-2d7a465cd403",
   "metadata": {},
   "outputs": [
    {
     "data": {
      "text/plain": [
       "33"
      ]
     },
     "execution_count": 16,
     "metadata": {},
     "output_type": "execute_result"
    }
   ],
   "source": [
    "result"
   ]
  },
  {
   "cell_type": "code",
   "execution_count": 19,
   "id": "7d4203f6-4ff9-450a-ac64-7002d54d67e2",
   "metadata": {},
   "outputs": [],
   "source": [
    "result=3 if None else a/b"
   ]
  },
  {
   "cell_type": "code",
   "execution_count": 20,
   "id": "89f79c25-807e-4828-9061-b40c8f50e463",
   "metadata": {},
   "outputs": [
    {
     "data": {
      "text/plain": [
       "3.0"
      ]
     },
     "execution_count": 20,
     "metadata": {},
     "output_type": "execute_result"
    }
   ],
   "source": [
    "result"
   ]
  },
  {
   "cell_type": "code",
   "execution_count": 22,
   "id": "a47870f6-7e75-4f13-a4cc-978d26988e96",
   "metadata": {},
   "outputs": [],
   "source": [
    "collected_amount=3000\n",
    "commission=0\n",
    "if collected_amount <=2000:\n",
    "    commission=50\n",
    "\n",
    "elif collected_amount >2500 and collected_amount<3000:\n",
    "    commission=100\n",
    "elif collected_amount >2500:\n",
    "    commission=150\n",
    "    if collected_amount>=3000:\n",
    "        commission+=200\n"
   ]
  },
  {
   "cell_type": "code",
   "execution_count": 24,
   "id": "968ef141-aa31-4814-b091-5ec190c9db14",
   "metadata": {},
   "outputs": [
    {
     "data": {
      "text/plain": [
       "3000"
      ]
     },
     "execution_count": 24,
     "metadata": {},
     "output_type": "execute_result"
    }
   ],
   "source": [
    "collected_amount\n"
   ]
  },
  {
   "cell_type": "code",
   "execution_count": 25,
   "id": "7fa34836-9062-406b-afec-e13666642fad",
   "metadata": {},
   "outputs": [
    {
     "data": {
      "text/plain": [
       "350"
      ]
     },
     "execution_count": 25,
     "metadata": {},
     "output_type": "execute_result"
    }
   ],
   "source": [
    "commission"
   ]
  },
  {
   "cell_type": "code",
   "execution_count": 26,
   "id": "dd1c76c3-57a9-4106-829a-8badaaec57b9",
   "metadata": {},
   "outputs": [
    {
     "name": "stdout",
     "output_type": "stream",
     "text": [
      "30\n"
     ]
    }
   ],
   "source": [
    "order_value=1500\n",
    "state='ap'\n",
    "delivery_charge=0\n",
    "if state in ['up','mp','ts']:\n",
    "    if order_value<=1000:\n",
    "        delivery_charge=50\n",
    "    elif order_value>1000 and order_value<2000:\n",
    "        delivery_charge=100\n",
    "    else:\n",
    "        delivery_charge=150\n",
    "\n",
    "else:\n",
    "    delivery_charge=25\n",
    "\n",
    "if state in ['lp','kp','ap']:\n",
    "    if order_value>1000:\n",
    "        delivery_charge+=20\n",
    "\n",
    "    if order_value<2000 and state in ['kp','ap']:\n",
    "        delivery_charge=+30\n",
    "    else:\n",
    "        delivery_charge +=15\n",
    "\n",
    "print(delivery_charge)\n"
   ]
  },
  {
   "cell_type": "code",
   "execution_count": 28,
   "id": "eba65f3e-fbd8-4e22-8d5e-472c509425d4",
   "metadata": {},
   "outputs": [
    {
     "name": "stdout",
     "output_type": "stream",
     "text": [
      "2\n"
     ]
    }
   ],
   "source": [
    "l=[10,20,[30,40],[50,60]]\n",
    "count=0\n",
    "for i in range(len(l)):\n",
    "    if type(l[i])==list:\n",
    "        count=count+1\n",
    "\n",
    "print(count)\n",
    "        "
   ]
  },
  {
   "cell_type": "code",
   "execution_count": 29,
   "id": "07da1cd6-5a98-4c0c-b617-7b981703794b",
   "metadata": {},
   "outputs": [
    {
     "name": "stdout",
     "output_type": "stream",
     "text": [
      "19\n"
     ]
    }
   ],
   "source": [
    "l=[10,(20,),{30},{},{},[40,50]]\n",
    "count=0\n",
    "for i in range(len(l)):\n",
    "    if type(l[i])==list:\n",
    "        count+=1\n",
    "    elif type(l[i])==tuple:\n",
    "        count+=2\n",
    "    elif type(l[i])==set:\n",
    "        count+=3\n",
    "\n",
    "    elif type(l[i])==dict:\n",
    "        count+=4\n",
    "    else:\n",
    "        count+=5\n",
    "\n",
    "print(count)"
   ]
  },
  {
   "cell_type": "code",
   "execution_count": 32,
   "id": "3df850b6-60f1-4180-bee3-06327b91b172",
   "metadata": {},
   "outputs": [
    {
     "name": "stdout",
     "output_type": "stream",
     "text": [
      "13\n"
     ]
    }
   ],
   "source": [
    "t=(2,4,6,8,10,12)\n",
    "d={1:'A',2:'B',3:'C',4:'D',5:'E',6:'F'}\n",
    "result=1\n",
    "for t1 in t:\n",
    "    if t1 in d:\n",
    "        result +=t1\n",
    "\n",
    "print(result)"
   ]
  },
  {
   "cell_type": "code",
   "execution_count": 33,
   "id": "168ce501-993f-4bde-a3ac-0719904a2ce6",
   "metadata": {},
   "outputs": [
    {
     "name": "stdout",
     "output_type": "stream",
     "text": [
      "31\n"
     ]
    }
   ],
   "source": [
    "t=(2,4,6,8,10,12)\n",
    "d={1:'A',2:'B',3:'C',4:'D',5:'E',6:'F'}\n",
    "result=1\n",
    "for t1 in t:\n",
    "    if t1 in d:\n",
    "        continue\n",
    "    else:\n",
    "        result+=t1\n",
    "\n",
    "print(result)"
   ]
  },
  {
   "cell_type": "code",
   "execution_count": 34,
   "id": "c189ff00-f665-4c28-aa9f-695002b08306",
   "metadata": {},
   "outputs": [
    {
     "name": "stdout",
     "output_type": "stream",
     "text": [
      "1\n"
     ]
    }
   ],
   "source": [
    "values=[[3,4,5,1],[33,6,1,2]]\n",
    "v=values[0][0]\n",
    "for lst in values:\n",
    "    for element in lst:\n",
    "        if v>element:\n",
    "            v=element\n",
    "\n",
    "print(v)"
   ]
  },
  {
   "cell_type": "code",
   "execution_count": 37,
   "id": "2fef6cda-9b80-49a5-b5f3-1864614300c8",
   "metadata": {},
   "outputs": [
    {
     "data": {
      "text/plain": [
       "3"
      ]
     },
     "execution_count": 37,
     "metadata": {},
     "output_type": "execute_result"
    }
   ],
   "source": [
    "values[0][0]"
   ]
  },
  {
   "cell_type": "code",
   "execution_count": 40,
   "id": "d6ce0a62-fca2-4c4a-8fd2-175d981fbc2e",
   "metadata": {},
   "outputs": [
    {
     "name": "stdout",
     "output_type": "stream",
     "text": [
      "['CHI', 'VIN', 'PIN']\n"
     ]
    }
   ],
   "source": [
    "def get_names():\n",
    "    names=['sunny','bunny','chinny','vinny','pinny']\n",
    "    return names[2:]\n",
    "\n",
    "def update_names(elements):\n",
    "    new_names=[]\n",
    "    for name in elements:\n",
    "        new_names.append(name[:3].upper())\n",
    "    return new_names\n",
    "\n",
    "print(update_names(get_names()))"
   ]
  },
  {
   "cell_type": "code",
   "execution_count": 91,
   "id": "85a1b2a5-c600-4f1e-b3cc-9252ace54e1e",
   "metadata": {},
   "outputs": [
    {
     "name": "stdout",
     "output_type": "stream",
     "text": [
      "['chiken', 'mutton', 'fish']\n"
     ]
    }
   ],
   "source": [
    "def list1(a,lst=[]):\n",
    "    lst.append(a)\n",
    "    return lst\n",
    "\n",
    "list1('chiken')\n",
    "list1('mutton')\n",
    "print(list1('fish'))\n",
    "\n",
    "#to print the following to the console\n",
    "#['chiken','mutton','fish']"
   ]
  },
  {
   "cell_type": "code",
   "execution_count": 92,
   "id": "ce0c97fb-98fc-410d-b0ee-1bea90f36f4e",
   "metadata": {},
   "outputs": [],
   "source": [
    "def f1(x=0,y=0):\n",
    "    return x+y"
   ]
  },
  {
   "cell_type": "code",
   "execution_count": 94,
   "id": "421611ae-b978-492a-b2ea-3f5811df5a3d",
   "metadata": {},
   "outputs": [
    {
     "data": {
      "text/plain": [
       "5"
      ]
     },
     "execution_count": 94,
     "metadata": {},
     "output_type": "execute_result"
    }
   ],
   "source": [
    "f1(2,3)"
   ]
  },
  {
   "cell_type": "code",
   "execution_count": 95,
   "id": "8e836dd2-0aec-413e-abd9-63a99649e48c",
   "metadata": {},
   "outputs": [
    {
     "data": {
      "text/plain": [
       "0"
      ]
     },
     "execution_count": 95,
     "metadata": {},
     "output_type": "execute_result"
    }
   ],
   "source": [
    "f1()"
   ]
  },
  {
   "cell_type": "code",
   "execution_count": 97,
   "id": "bc0477e4-3ad0-4132-a439-75db1ef0ef91",
   "metadata": {},
   "outputs": [
    {
     "name": "stdout",
     "output_type": "stream",
     "text": [
      "The highest number:100 and least number:10\n"
     ]
    }
   ],
   "source": [
    "numbers=[100,20,10,70,50,60,40,30,90,80]\n",
    "def find_numbers():\n",
    "    numbers.sort()\n",
    "    return numbers[0],numbers[-1]\n",
    "low,high=find_numbers()\n",
    "print(\"The highest number:{} and least number:{}\".format(high,low))\n"
   ]
  },
  {
   "cell_type": "code",
   "execution_count": 98,
   "id": "332fd445-b0e3-4ecd-a0e4-f6cb6515ae7d",
   "metadata": {},
   "outputs": [],
   "source": [
    "def calculate(amount=6,factor=3):\n",
    "    if amount>6:\n",
    "        return amount*factor\n",
    "    else:\n",
    "        return amount*factor*2"
   ]
  },
  {
   "cell_type": "code",
   "execution_count": 99,
   "id": "99d9e964-8050-42c4-91e0-45a81bf939bc",
   "metadata": {},
   "outputs": [
    {
     "data": {
      "text/plain": [
       "36"
      ]
     },
     "execution_count": 99,
     "metadata": {},
     "output_type": "execute_result"
    }
   ],
   "source": [
    "calculate()"
   ]
  },
  {
   "cell_type": "code",
   "execution_count": 100,
   "id": "643e038f-738b-43da-b67b-dcdb54111fc5",
   "metadata": {},
   "outputs": [
    {
     "data": {
      "text/plain": [
       "90"
      ]
     },
     "execution_count": 100,
     "metadata": {},
     "output_type": "execute_result"
    }
   ],
   "source": [
    "calculate(30)"
   ]
  },
  {
   "cell_type": "code",
   "execution_count": 101,
   "id": "49ef7fc9-4b19-46ec-9b5b-48dbff20b5f0",
   "metadata": {},
   "outputs": [
    {
     "data": {
      "text/plain": [
       "30"
      ]
     },
     "execution_count": 101,
     "metadata": {},
     "output_type": "execute_result"
    }
   ],
   "source": [
    "calculate(10)"
   ]
  },
  {
   "cell_type": "code",
   "execution_count": 103,
   "id": "f26b272a-0bf0-4bfc-ab22-1a43714a7d1a",
   "metadata": {},
   "outputs": [
    {
     "name": "stdout",
     "output_type": "stream",
     "text": [
      "0,1,1,2,3,5,8,"
     ]
    }
   ],
   "source": [
    "def fib_seq(n):\n",
    "    if n==0:\n",
    "        return 0\n",
    "    elif n==1:\n",
    "        return 1\n",
    "    else:\n",
    "        return fib_seq(n-1)+fib_seq(n-2)\n",
    "\n",
    "for i in range(7):\n",
    "    print (fib_seq(i),end=\",\")"
   ]
  },
  {
   "cell_type": "code",
   "execution_count": 104,
   "id": "117ffdc9-da0e-48dc-9471-78593f3dc125",
   "metadata": {},
   "outputs": [],
   "source": [
    "def update_score(score,value):\n",
    "    new_score=score+value\n",
    "    return new_score"
   ]
  },
  {
   "cell_type": "code",
   "execution_count": 105,
   "id": "29d976c8-47f9-4a21-9710-6f4668029ef0",
   "metadata": {},
   "outputs": [
    {
     "data": {
      "text/plain": [
       "72"
      ]
     },
     "execution_count": 105,
     "metadata": {},
     "output_type": "execute_result"
    }
   ],
   "source": [
    "update_score(20,52)"
   ]
  },
  {
   "cell_type": "code",
   "execution_count": 112,
   "id": "900fb342-7f86-4ce2-b892-c365603b1edd",
   "metadata": {},
   "outputs": [
    {
     "name": "stdin",
     "output_type": "stream",
     "text": [
      "How many miles did you bike this week 2500\n",
      "Enter your name klk\n"
     ]
    },
    {
     "name": "stdout",
     "output_type": "stream",
     "text": [
      "klk ,you burned about 125000 calories\n"
     ]
    }
   ],
   "source": [
    "def get_name():\n",
    "    name=input(\"Enter your name\")\n",
    "    return name\n",
    "\n",
    "def calc_calories(miles,calories_per_mile):\n",
    "    calories=miles*calories_per_mile\n",
    "    return calories\n",
    "\n",
    "distance=int (input(\"How many miles did you bike this week\"))\n",
    "burn_rate=50\n",
    "biker=get_name()\n",
    "calories_burned=calc_calories(distance,burn_rate)\n",
    "print(biker,\",you burned about\",calories_burned,\"calories\")"
   ]
  },
  {
   "cell_type": "code",
   "execution_count": 115,
   "id": "10d9a9cd-22dd-4c18-9c67-1b04efd53126",
   "metadata": {},
   "outputs": [],
   "source": [
    "def get_rating(age):\n",
    "    if age >=18:\n",
    "        print(\"A\")\n",
    "    elif age >=13:\n",
    "        print(\"t\")\n",
    "    else:\n",
    "        print(\"C\")"
   ]
  },
  {
   "cell_type": "code",
   "execution_count": 116,
   "id": "0e35d1bd-516a-4cb3-9b8b-d91b563a8515",
   "metadata": {},
   "outputs": [
    {
     "name": "stdout",
     "output_type": "stream",
     "text": [
      "A\n"
     ]
    }
   ],
   "source": [
    "get_rating(25)"
   ]
  },
  {
   "cell_type": "code",
   "execution_count": 28,
   "id": "5709a680-22f3-4b0b-b103-ff21aa7f9306",
   "metadata": {},
   "outputs": [
    {
     "name": "stdin",
     "output_type": "stream",
     "text": [
      "Enter the alphabet symbol: r\n"
     ]
    },
    {
     "name": "stdout",
     "output_type": "stream",
     "text": [
      "2\n"
     ]
    }
   ],
   "source": [
    "def count_letter(letter,word_list):\n",
    "    count=0\n",
    "    for word in word_list:\n",
    "        if letter in word:\n",
    "            count+=1\n",
    "    return count\n",
    "\n",
    "word_list=['apple','pears','orange','mango']\n",
    "letter=input(\"Enter the alphabet symbol:\")\n",
    "letter_count=count_letter(letter,word_list)\n",
    "print(letter_count)\n",
    "             \n"
   ]
  },
  {
   "cell_type": "code",
   "execution_count": 7,
   "id": "adf51995-b9b7-4207-bc13-d37b404ae102",
   "metadata": {},
   "outputs": [
    {
     "name": "stdout",
     "output_type": "stream",
     "text": [
      "h\n",
      "eh\n",
      "leh\n",
      "lleh\n",
      "olleh\n"
     ]
    }
   ],
   "source": [
    "startmsg=\"hello\"\n",
    "endmsg=\"\"\n",
    "for i in range (0,len(startmsg)):\n",
    "    endmsg=startmsg[i]+endmsg\n",
    "    print (endmsg)"
   ]
  },
  {
   "cell_type": "code",
   "execution_count": 9,
   "id": "5069f1a6-f35a-4e38-b5e0-2c910fbbff37",
   "metadata": {},
   "outputs": [
    {
     "name": "stdout",
     "output_type": "stream",
     "text": [
      "[13, 40, 17, 10]\n"
     ]
    }
   ],
   "source": [
    "x=[13,4,17,10]\n",
    "w=x[1:]\n",
    "u=x[1:]\n",
    "y=x\n",
    "u[0]=50\n",
    "y[1]=40\n",
    "print(x)"
   ]
  },
  {
   "cell_type": "code",
   "execution_count": 11,
   "id": "dc659f95-3872-4920-95e6-756e409ec8c5",
   "metadata": {},
   "outputs": [
    {
     "name": "stdin",
     "output_type": "stream",
     "text": [
      "Enter student Marks 35\n"
     ]
    },
    {
     "name": "stdout",
     "output_type": "stream",
     "text": [
      "E\n"
     ]
    }
   ],
   "source": [
    "marks=int(input(\"Enter student Marks\"))\n",
    "if marks>=90:\n",
    "    grade=\"A\"\n",
    "elif marks >=80:\n",
    "    grade=\"B\"\n",
    "elif marks >=70:\n",
    "    grade=\"C\"\n",
    "\n",
    "elif marks >=65:\n",
    "    grade=\"D\"\n",
    "\n",
    "else:\n",
    "    grade =\"E\"\n",
    "\n",
    "print(grade)\n"
   ]
  },
  {
   "cell_type": "code",
   "execution_count": 12,
   "id": "af2e36dd-a00a-42d6-ad2d-71d0e927287f",
   "metadata": {},
   "outputs": [
    {
     "name": "stdout",
     "output_type": "stream",
     "text": [
      "0\n",
      "1\n",
      "2\n",
      "3\n",
      "4\n",
      "5\n",
      "6\n"
     ]
    }
   ],
   "source": [
    "productIdlist=[0,1,2,3,4,5,6,7,8,9]\n",
    "index=0\n",
    "while index<len(productIdlist):\n",
    "    print(productIdlist[index])\n",
    "    if productIdlist[index]==6:\n",
    "        break\n",
    "    else:\n",
    "        index+=1"
   ]
  },
  {
   "cell_type": "code",
   "execution_count": 17,
   "id": "726dd8f0-51ff-46ef-95d7-be490dd32d06",
   "metadata": {},
   "outputs": [
    {
     "name": "stdout",
     "output_type": "stream",
     "text": [
      "2\n",
      "3\n",
      "5\n",
      "7\n",
      "11\n",
      "13\n",
      "17\n",
      "19\n",
      "23\n",
      "29\n",
      "31\n",
      "37\n",
      "41\n",
      "43\n",
      "47\n",
      "53\n",
      "59\n",
      "61\n",
      "67\n",
      "71\n",
      "73\n",
      "79\n",
      "83\n",
      "89\n",
      "97\n",
      "101\n",
      "103\n",
      "107\n",
      "109\n",
      "113\n",
      "127\n",
      "131\n",
      "137\n",
      "139\n",
      "149\n",
      "151\n",
      "157\n",
      "163\n",
      "167\n",
      "173\n",
      "179\n",
      "181\n",
      "191\n",
      "193\n",
      "197\n",
      "199\n"
     ]
    }
   ],
   "source": [
    "p=2\n",
    "while p<=200:\n",
    "    is_prime=True\n",
    "    for i in range(2,p):\n",
    "        if p%i==0:\n",
    "            is_prime=False\n",
    "            break\n",
    "\n",
    "    if is_prime==True:\n",
    "        print(p)\n",
    "    p=p+1"
   ]
  },
  {
   "cell_type": "code",
   "execution_count": 16,
   "id": "9ce32dba-7ac3-4f96-885a-f7af51658d13",
   "metadata": {},
   "outputs": [
    {
     "name": "stdout",
     "output_type": "stream",
     "text": [
      "2\n",
      "3\n",
      "5\n",
      "7\n",
      "11\n",
      "13\n",
      "17\n",
      "19\n",
      "23\n",
      "29\n",
      "31\n",
      "37\n",
      "41\n",
      "43\n",
      "47\n",
      "53\n",
      "59\n",
      "61\n",
      "67\n",
      "71\n",
      "73\n",
      "79\n",
      "83\n",
      "89\n",
      "97\n",
      "101\n",
      "103\n",
      "107\n",
      "109\n",
      "113\n",
      "127\n",
      "131\n",
      "137\n",
      "139\n",
      "149\n",
      "151\n",
      "157\n",
      "163\n",
      "167\n",
      "173\n",
      "179\n",
      "181\n",
      "191\n",
      "193\n",
      "197\n",
      "199\n"
     ]
    }
   ],
   "source": [
    "p=2\n",
    "while p<=200:\n",
    "    is_prime=True\n",
    "    for i in range(2,p):\n",
    "        if p%i==0:\n",
    "            is_prime=False\n",
    "            break\n",
    "\n",
    "    if is_prime==True:\n",
    "        print(p)\n",
    "    p=p+1"
   ]
  },
  {
   "cell_type": "code",
   "execution_count": 27,
   "id": "3976dc09-fe95-40e3-a801-727d4aff76e3",
   "metadata": {},
   "outputs": [
    {
     "name": "stdin",
     "output_type": "stream",
     "text": [
      "Enter the room number: 1\n"
     ]
    },
    {
     "name": "stdout",
     "output_type": "stream",
     "text": [
      "room does not exist\n"
     ]
    }
   ],
   "source": [
    "rooms={1:\"left conference room\",2:\"Right Conference Room\"}\n",
    "room=input(\"Enter the room number:\")\n",
    "if  room not in rooms:\n",
    "    print('room does not exist')\n",
    "\n",
    "else:\n",
    "    print(\"The room name is:\"+rooms[room])"
   ]
  },
  {
   "cell_type": "code",
   "execution_count": 53,
   "id": "a43ee13f-134b-480f-8300-7b12718ec558",
   "metadata": {},
   "outputs": [
    {
     "name": "stdin",
     "output_type": "stream",
     "text": [
      "Was Book returned before 9 pm? y or n: n\n",
      "how many days was book rented 5\n",
      " what the day book rented Sunday\n"
     ]
    },
    {
     "name": "stdout",
     "output_type": "stream",
     "text": [
      "the cost of book rental is:$ 9.0\n"
     ]
    }
   ],
   "source": [
    "ontime=input(\"Was Book returned before 9 pm? y or n:\").lower()\n",
    "days_rented=int(input(\"how many days was book rented\"))\n",
    "day_rented=input(\" what the day book rented\").capitalize()\n",
    "cost_per_days=3.00\n",
    "if ontime == \"n\":\n",
    "    days_rented=days_rented+ 1\n",
    "    if day_rented==\"Sunday\":\n",
    "        total=(days_rented*cost_per_days)*0.5\n",
    "        \n",
    "    elif days_rented==\"Saturday\":\n",
    "        total=(days_rented*cost_per_days)*0.7\n",
    "    \n",
    "    else:\n",
    "        \n",
    "        total=days_rented*cost_per_days\n",
    "\n",
    "\n",
    "print(\"the cost of book rental is:$\",total)\n",
    "    \n",
    "\n",
    "             "
   ]
  },
  {
   "cell_type": "code",
   "execution_count": 61,
   "id": "775c2103-f07b-4642-bf8c-48741dd1f83a",
   "metadata": {},
   "outputs": [
    {
     "name": "stdout",
     "output_type": "stream",
     "text": [
      "A\n"
     ]
    }
   ],
   "source": [
    "\n",
    "    marks=90\n",
    "    if 80<=marks <=100:\n",
    "        grade=\"A\"\n",
    "\n",
    "    print(grade)\n",
    " "
   ]
  },
  {
   "cell_type": "code",
   "execution_count": null,
   "id": "dc6a30be-9bf6-40be-8912-7f2729acd342",
   "metadata": {},
   "outputs": [],
   "source": [
    "s=20\n",
    "r=10\n",
    "a=['a','b','c','d']\n",
    "for i in a:\n",
    "    a.append(i.upper())\n",
    "    if r<s:\n",
    "        r=r+1\n",
    "        break\n",
    "\n",
    "print(a)"
   ]
  },
  {
   "cell_type": "code",
   "execution_count": 2,
   "id": "e6661617-5207-4502-9919-aeb7fd417b11",
   "metadata": {},
   "outputs": [
    {
     "ename": "NameError",
     "evalue": "name 'os' is not defined",
     "output_type": "error",
     "traceback": [
      "\u001b[1;31m---------------------------------------------------------------------------\u001b[0m",
      "\u001b[1;31mNameError\u001b[0m                                 Traceback (most recent call last)",
      "Cell \u001b[1;32mIn[2], line 1\u001b[0m\n\u001b[1;32m----> 1\u001b[0m os\u001b[38;5;241m.\u001b[39mgetcwd()\n",
      "\u001b[1;31mNameError\u001b[0m: name 'os' is not defined"
     ]
    }
   ],
   "source": [
    "os.getcwd()"
   ]
  },
  {
   "cell_type": "code",
   "execution_count": 3,
   "id": "7db8382a-5cad-454b-a7d6-39ecd02024f0",
   "metadata": {},
   "outputs": [],
   "source": [
    "import os"
   ]
  },
  {
   "cell_type": "code",
   "execution_count": null,
   "id": "6ba3e142-0c99-4186-abb4-c6010bef2577",
   "metadata": {},
   "outputs": [],
   "source": [
    "os"
   ]
  }
 ],
 "metadata": {
  "kernelspec": {
   "display_name": "Python 3 (ipykernel)",
   "language": "python",
   "name": "python3"
  },
  "language_info": {
   "codemirror_mode": {
    "name": "ipython",
    "version": 3
   },
   "file_extension": ".py",
   "mimetype": "text/x-python",
   "name": "python",
   "nbconvert_exporter": "python",
   "pygments_lexer": "ipython3",
   "version": "3.12.4"
  }
 },
 "nbformat": 4,
 "nbformat_minor": 5
}
