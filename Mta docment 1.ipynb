{
 "cells": [
  {
   "cell_type": "code",
   "execution_count": 2,
   "id": "2fbb9910-fa3b-4489-b24f-b733587cdadb",
   "metadata": {},
   "outputs": [
    {
     "name": "stdout",
     "output_type": "stream",
     "text": [
      "5.0\n"
     ]
    }
   ],
   "source": [
    "x=8\n",
    "y=10\n",
    "result=x//3*3/2+y%2**2\n",
    "print(result)\n"
   ]
  },
  {
   "cell_type": "code",
   "execution_count": 11,
   "id": "cbda3c91-4ed1-41ed-8777-e21931cac555",
   "metadata": {},
   "outputs": [
    {
     "name": "stdin",
     "output_type": "stream",
     "text": [
      "how old you are when you join 18\n",
      "how old are you today 58\n"
     ]
    }
   ],
   "source": [
    "start= input(\"how old you are when you join\")\n",
    "end=input(\"how old are you today\")\n",
    "\n",
    "\n"
   ]
  },
  {
   "cell_type": "code",
   "execution_count": 14,
   "id": "739df815-15c8-4d60-a37b-c9d3d114b338",
   "metadata": {},
   "outputs": [
    {
     "name": "stdout",
     "output_type": "stream",
     "text": [
      "Congratulations on 40 year of service\n"
     ]
    }
   ],
   "source": [
    "print(\"Congratulations on \"+ str(int(end)-int(start))+' year of service')"
   ]
  },
  {
   "cell_type": "code",
   "execution_count": 15,
   "id": "3dfe3d5b-102e-42cc-8c1e-046fadd9dc32",
   "metadata": {},
   "outputs": [],
   "source": [
    "x=\"ACROTE\"\n",
    "y=\"APPLE\"\n",
    "z=\"TOMATO\""
   ]
  },
  {
   "cell_type": "code",
   "execution_count": 18,
   "id": "eeb1cbc8-1766-4e0d-9929-ae9e1186a3ab",
   "metadata": {},
   "outputs": [
    {
     "name": "stdout",
     "output_type": "stream",
     "text": [
      "C A T\n"
     ]
    }
   ],
   "source": [
    "print(x[1],y[0],z[0])"
   ]
  },
  {
   "cell_type": "code",
   "execution_count": 20,
   "id": "6f61de99-5fcd-46a2-8f3d-665b2f7f8bd0",
   "metadata": {},
   "outputs": [
    {
     "name": "stdout",
     "output_type": "stream",
     "text": [
      "R A T\n"
     ]
    }
   ],
   "source": [
    "print(x[2],y[0],z[-2])"
   ]
  },
  {
   "cell_type": "code",
   "execution_count": 23,
   "id": "f5f78939-cde4-4f63-b797-75ab907cf79f",
   "metadata": {},
   "outputs": [
    {
     "name": "stdout",
     "output_type": "stream",
     "text": [
      "True\n"
     ]
    }
   ],
   "source": [
    "x=\"AKSHADA\"\n",
    "y=\"AKSHADA\"\n",
    "result=x is y\n",
    "print(result)"
   ]
  },
  {
   "cell_type": "code",
   "execution_count": 24,
   "id": "cec23e82-390d-44b5-ba8e-ee9082b1d7b2",
   "metadata": {},
   "outputs": [
    {
     "name": "stdout",
     "output_type": "stream",
     "text": [
      "False\n"
     ]
    }
   ],
   "source": [
    "x=\"AKSHADA\"\n",
    "y=\"AKSHADA\"\n",
    "result=x > y\n",
    "print(result)"
   ]
  },
  {
   "cell_type": "code",
   "execution_count": 25,
   "id": "06708eed-419a-4946-99a3-9f27402ae29e",
   "metadata": {},
   "outputs": [
    {
     "name": "stdout",
     "output_type": "stream",
     "text": [
      "True\n"
     ]
    }
   ],
   "source": [
    "x=\"AKSHADA\"\n",
    "y=\"AKSHADA\"\n",
    "result=x == y\n",
    "print(result)"
   ]
  },
  {
   "cell_type": "code",
   "execution_count": 26,
   "id": "ded1a256-7fff-4893-8f2c-9adb43dce512",
   "metadata": {},
   "outputs": [],
   "source": [
    "a=\"10\"\n",
    "b=3\n",
    "c=a*b"
   ]
  },
  {
   "cell_type": "code",
   "execution_count": 27,
   "id": "3fdf9971-c1e9-46ab-9adb-a571e13c3eae",
   "metadata": {},
   "outputs": [
    {
     "data": {
      "text/plain": [
       "'101010'"
      ]
     },
     "execution_count": 27,
     "metadata": {},
     "output_type": "execute_result"
    }
   ],
   "source": [
    "c"
   ]
  },
  {
   "cell_type": "code",
   "execution_count": 32,
   "id": "4b75c79b-76b3-49fd-a4c5-5b53e44e490d",
   "metadata": {},
   "outputs": [
    {
     "data": {
      "text/plain": [
       "str"
      ]
     },
     "execution_count": 32,
     "metadata": {},
     "output_type": "execute_result"
    }
   ],
   "source": [
    "type(c)"
   ]
  },
  {
   "cell_type": "code",
   "execution_count": 31,
   "id": "31bf5c07-fdb7-47df-8c12-4b922005abb5",
   "metadata": {},
   "outputs": [
    {
     "data": {
      "text/plain": [
       "3.3333333333333335"
      ]
     },
     "execution_count": 31,
     "metadata": {},
     "output_type": "execute_result"
    }
   ],
   "source": [
    "a2=10\n",
    "b2=3\n",
    "c2=a2/b2\n",
    "c2"
   ]
  },
  {
   "cell_type": "code",
   "execution_count": 33,
   "id": "4b4af091-4444-4b18-a3f1-c958b56a9725",
   "metadata": {},
   "outputs": [
    {
     "data": {
      "text/plain": [
       "float"
      ]
     },
     "execution_count": 33,
     "metadata": {},
     "output_type": "execute_result"
    }
   ],
   "source": [
    "type(c2)"
   ]
  },
  {
   "cell_type": "code",
   "execution_count": 34,
   "id": "90b3a089-a00c-4e51-a040-94cb7f0c7649",
   "metadata": {},
   "outputs": [
    {
     "data": {
      "text/plain": [
       "3"
      ]
     },
     "execution_count": 34,
     "metadata": {},
     "output_type": "execute_result"
    }
   ],
   "source": [
    "13//4"
   ]
  },
  {
   "cell_type": "code",
   "execution_count": 35,
   "id": "c4ba4233-c5aa-4bee-8e56-fa2247a1d76e",
   "metadata": {},
   "outputs": [
    {
     "data": {
      "text/plain": [
       "3"
      ]
     },
     "execution_count": 35,
     "metadata": {},
     "output_type": "execute_result"
    }
   ],
   "source": [
    "3**1"
   ]
  },
  {
   "cell_type": "code",
   "execution_count": 37,
   "id": "ac5f2c59-f376-42ff-96a0-f34369ef7842",
   "metadata": {},
   "outputs": [
    {
     "data": {
      "text/plain": [
       "3"
      ]
     },
     "execution_count": 37,
     "metadata": {},
     "output_type": "execute_result"
    }
   ],
   "source": [
    "23%5"
   ]
  },
  {
   "cell_type": "markdown",
   "id": "7064f354-3cb9-49ea-b53e-8e925e245720",
   "metadata": {},
   "source": [
    "# 11/3"
   ]
  },
  {
   "cell_type": "code",
   "execution_count": 40,
   "id": "da000248-6bc0-4360-9d13-991d0395c9ac",
   "metadata": {},
   "outputs": [
    {
     "name": "stdout",
     "output_type": "stream",
     "text": [
      "False\n",
      "True\n"
     ]
    }
   ],
   "source": [
    "n=[10,20,30,40,50]\n",
    "n2=[10,20,30,40,50]\n",
    "print(n is n2)\n",
    "print(n==n2)"
   ]
  },
  {
   "cell_type": "code",
   "execution_count": 41,
   "id": "0239864e-fefc-4534-acf2-e05dff92b68e",
   "metadata": {},
   "outputs": [],
   "source": [
    "a=1\n",
    "b=3\n",
    "c=5\n",
    "d=7"
   ]
  },
  {
   "cell_type": "code",
   "execution_count": 44,
   "id": "3956bc62-8da7-46c4-aceb-2470dcaa0bfb",
   "metadata": {},
   "outputs": [
    {
     "name": "stdout",
     "output_type": "stream",
     "text": [
      "0\n"
     ]
    }
   ],
   "source": [
    "print((a+d)-(b+c))"
   ]
  },
  {
   "cell_type": "code",
   "execution_count": 47,
   "id": "d7ae868a-d081-4c72-afcb-bcd4f467ad93",
   "metadata": {},
   "outputs": [
    {
     "data": {
      "text/plain": [
       "0"
      ]
     },
     "execution_count": 47,
     "metadata": {},
     "output_type": "execute_result"
    }
   ],
   "source": [
    "a**d-1"
   ]
  },
  {
   "cell_type": "code",
   "execution_count": 54,
   "id": "f9840290-7ef6-44c1-be55-af877ac2efbf",
   "metadata": {},
   "outputs": [
    {
     "name": "stdout",
     "output_type": "stream",
     "text": [
      "['A', 'B', ' ', 'C', 'D', 'EF']\n"
     ]
    }
   ],
   "source": [
    "s=\"AB CD\"\n",
    "list=list(s)\n",
    "list.append(\"EF\")\n",
    "print(list)"
   ]
  },
  {
   "cell_type": "code",
   "execution_count": 59,
   "id": "5f16a6d9-0bc9-4197-b7b8-d97599f94ec4",
   "metadata": {},
   "outputs": [
    {
     "name": "stdout",
     "output_type": "stream",
     "text": [
      "valid\n"
     ]
    }
   ],
   "source": [
    "a=5\n",
    "b=10\n",
    "c=2\n",
    "d=True\n",
    "\n",
    "x=a+b*c\n",
    "y=a+b/c\n",
    "\n",
    "if(x>y):\n",
    "    print(\"valid\")\n",
    "else:\n",
    "    print(\"invalid\")\n"
   ]
  },
  {
   "cell_type": "code",
   "execution_count": 56,
   "id": "ff3b2635-852c-4310-9c25-7b769334da85",
   "metadata": {},
   "outputs": [
    {
     "data": {
      "text/plain": [
       "25"
      ]
     },
     "execution_count": 56,
     "metadata": {},
     "output_type": "execute_result"
    }
   ],
   "source": [
    "x"
   ]
  },
  {
   "cell_type": "code",
   "execution_count": 57,
   "id": "74d353cd-290b-4114-af59-116daa5e89f1",
   "metadata": {},
   "outputs": [
    {
     "data": {
      "text/plain": [
       "10.0"
      ]
     },
     "execution_count": 57,
     "metadata": {},
     "output_type": "execute_result"
    }
   ],
   "source": [
    "y"
   ]
  },
  {
   "cell_type": "code",
   "execution_count": 60,
   "id": "377879c4-47b6-45e0-bea3-27adfcd7eca7",
   "metadata": {},
   "outputs": [
    {
     "name": "stdin",
     "output_type": "stream",
     "text": [
      "Enter first number 10\n",
      "Enter second number 1425639874256\n"
     ]
    }
   ],
   "source": [
    "x=input(\"Enter first number\")\n",
    "y=input(\"Enter second number\")"
   ]
  },
  {
   "cell_type": "code",
   "execution_count": 62,
   "id": "443e8957-2431-4e5d-8754-24746b680f21",
   "metadata": {},
   "outputs": [
    {
     "name": "stdout",
     "output_type": "stream",
     "text": [
      "the result is 1425639874266\n"
     ]
    }
   ],
   "source": [
    "print(\"the result is \"+str(int(x)+int(y)))"
   ]
  },
  {
   "cell_type": "code",
   "execution_count": 63,
   "id": "ce1a6219-b1ea-4cc5-b1a4-a2458df7d26d",
   "metadata": {},
   "outputs": [],
   "source": [
    "result=a-b*c+d\n"
   ]
  },
  {
   "cell_type": "code",
   "execution_count": 68,
   "id": "5e639227-e60e-47b1-8db5-6ee43e735c3d",
   "metadata": {},
   "outputs": [],
   "source": [
    "weight=62.2\n",
    "type(weight)\n",
    "zip='80065'\n",
    "\n",
    "value=+23e4\n"
   ]
  },
  {
   "cell_type": "code",
   "execution_count": 65,
   "id": "f50640b5-09a6-4dc2-b79c-bc6d445bf779",
   "metadata": {},
   "outputs": [
    {
     "data": {
      "text/plain": [
       "str"
      ]
     },
     "execution_count": 65,
     "metadata": {},
     "output_type": "execute_result"
    }
   ],
   "source": [
    "type(zip)"
   ]
  },
  {
   "cell_type": "code",
   "execution_count": 67,
   "id": "a5be82cd-3030-47c5-9131-722aa85c7d35",
   "metadata": {},
   "outputs": [
    {
     "data": {
      "text/plain": [
       "float"
      ]
     },
     "execution_count": 67,
     "metadata": {},
     "output_type": "execute_result"
    }
   ],
   "source": [
    "type(value)"
   ]
  },
  {
   "cell_type": "code",
   "execution_count": 81,
   "id": "4ee5a325-db5b-4ff9-a461-771414769107",
   "metadata": {},
   "outputs": [],
   "source": [
    "a=bool([False])\n",
    "b=bool(3)\n",
    "c=bool(\"\")\n",
    "d=bool(' ')"
   ]
  },
  {
   "cell_type": "code",
   "execution_count": 71,
   "id": "dd2720a9-babf-432c-90a5-8607dfb70a15",
   "metadata": {},
   "outputs": [
    {
     "data": {
      "text/plain": [
       "True"
      ]
     },
     "execution_count": 71,
     "metadata": {},
     "output_type": "execute_result"
    }
   ],
   "source": [
    "a"
   ]
  },
  {
   "cell_type": "code",
   "execution_count": 72,
   "id": "58b25f71-b0b6-43ae-b9a4-73dd76428368",
   "metadata": {},
   "outputs": [
    {
     "data": {
      "text/plain": [
       "True"
      ]
     },
     "execution_count": 72,
     "metadata": {},
     "output_type": "execute_result"
    }
   ],
   "source": [
    "b"
   ]
  },
  {
   "cell_type": "code",
   "execution_count": 76,
   "id": "60547283-48fd-4c49-84f3-84861f7ab9d9",
   "metadata": {},
   "outputs": [
    {
     "data": {
      "text/plain": [
       "False"
      ]
     },
     "execution_count": 76,
     "metadata": {},
     "output_type": "execute_result"
    }
   ],
   "source": [
    "c"
   ]
  },
  {
   "cell_type": "code",
   "execution_count": 82,
   "id": "a7b538cc-e851-4bbb-95e1-0eb0e6763a77",
   "metadata": {},
   "outputs": [
    {
     "data": {
      "text/plain": [
       "True"
      ]
     },
     "execution_count": 82,
     "metadata": {},
     "output_type": "execute_result"
    }
   ],
   "source": [
    "d"
   ]
  },
  {
   "cell_type": "code",
   "execution_count": 85,
   "id": "25e1adcb-8504-4d59-a0ca-d7b4ffd340ef",
   "metadata": {},
   "outputs": [],
   "source": [
    "result=(2*(3+4)**2-(3**3)*3)"
   ]
  },
  {
   "cell_type": "code",
   "execution_count": 86,
   "id": "6c565f93-94bc-435c-a951-ffa57a7f0143",
   "metadata": {},
   "outputs": [
    {
     "name": "stdout",
     "output_type": "stream",
     "text": [
      "17\n"
     ]
    }
   ],
   "source": [
    "print(result)"
   ]
  },
  {
   "cell_type": "code",
   "execution_count": 94,
   "id": "2d2ca6dd-b48c-4542-8ec6-84b01886d908",
   "metadata": {},
   "outputs": [],
   "source": [
    "a=2\n",
    "a += 1\n",
    "a**=2"
   ]
  },
  {
   "cell_type": "code",
   "execution_count": 95,
   "id": "0af67c6f-6710-4df6-a498-21a8c91cb107",
   "metadata": {},
   "outputs": [
    {
     "data": {
      "text/plain": [
       "9"
      ]
     },
     "execution_count": 95,
     "metadata": {},
     "output_type": "execute_result"
    }
   ],
   "source": [
    "a"
   ]
  },
  {
   "cell_type": "code",
   "execution_count": 97,
   "id": "ae4c467d-f294-46af-9f4f-ecd48aee6cf1",
   "metadata": {},
   "outputs": [],
   "source": [
    "a=bool(0)\n",
    "b=bool(3)\n",
    "c=bool(0.5)\n",
    "d=bool(0.0)"
   ]
  },
  {
   "cell_type": "code",
   "execution_count": 98,
   "id": "f68b6bfa-68c0-41e7-a60f-823afd46b97f",
   "metadata": {},
   "outputs": [
    {
     "data": {
      "text/plain": [
       "False"
      ]
     },
     "execution_count": 98,
     "metadata": {},
     "output_type": "execute_result"
    }
   ],
   "source": [
    "a"
   ]
  },
  {
   "cell_type": "code",
   "execution_count": 99,
   "id": "ee74265e-1eb5-4c9e-aa96-642c8cad154c",
   "metadata": {},
   "outputs": [
    {
     "data": {
      "text/plain": [
       "True"
      ]
     },
     "execution_count": 99,
     "metadata": {},
     "output_type": "execute_result"
    }
   ],
   "source": [
    "b"
   ]
  },
  {
   "cell_type": "code",
   "execution_count": 101,
   "id": "d9bcab48-0bbe-4f85-bf20-f289170e380e",
   "metadata": {},
   "outputs": [
    {
     "data": {
      "text/plain": [
       "True"
      ]
     },
     "execution_count": 101,
     "metadata": {},
     "output_type": "execute_result"
    }
   ],
   "source": [
    "c\n"
   ]
  },
  {
   "cell_type": "code",
   "execution_count": 102,
   "id": "ec5642b9-2f2a-40fb-9074-e24444fed24a",
   "metadata": {},
   "outputs": [
    {
     "data": {
      "text/plain": [
       "False"
      ]
     },
     "execution_count": 102,
     "metadata": {},
     "output_type": "execute_result"
    }
   ],
   "source": [
    "d"
   ]
  },
  {
   "cell_type": "code",
   "execution_count": 104,
   "id": "d76e6d3a-ea07-4566-abd7-67440e7de902",
   "metadata": {},
   "outputs": [
    {
     "name": "stdout",
     "output_type": "stream",
     "text": [
      "3.5\n",
      "3\n",
      "3\n"
     ]
    }
   ],
   "source": [
    "a=21\n",
    "b=6\n",
    "\n",
    "print(a/b)\n",
    "print(a//b)\n",
    "print(a%b)"
   ]
  },
  {
   "cell_type": "code",
   "execution_count": 108,
   "id": "8371f00d-eac6-4314-bc6b-1a5442864475",
   "metadata": {},
   "outputs": [
    {
     "name": "stdout",
     "output_type": "stream",
     "text": [
      "False\n",
      "False\n",
      "True\n",
      "True\n"
     ]
    }
   ],
   "source": [
    "numbers=[1,2,3,4,5]\n",
    "alphabets=['a','b','c','d']\n",
    "print(numbers==alphabets)\n",
    "print(numbers is alphabets)\n",
    "\n",
    "numbers=alphabets\n",
    "print(numbers==alphabets)\n",
    "print(numbers is alphabets)\n"
   ]
  },
  {
   "cell_type": "code",
   "execution_count": 109,
   "id": "c29b7359-45e7-4d29-b72c-f045b618376c",
   "metadata": {},
   "outputs": [],
   "source": [
    "age=0\n",
    "minor=False\n",
    "name=\"Akshada\""
   ]
  },
  {
   "cell_type": "code",
   "execution_count": 110,
   "id": "82f964ff-c94e-4337-9a20-49b66ae68c61",
   "metadata": {},
   "outputs": [
    {
     "data": {
      "text/plain": [
       "int"
      ]
     },
     "execution_count": 110,
     "metadata": {},
     "output_type": "execute_result"
    }
   ],
   "source": [
    "type(age)"
   ]
  },
  {
   "cell_type": "code",
   "execution_count": 111,
   "id": "9c93278e-52e1-4919-be25-fd0758558235",
   "metadata": {},
   "outputs": [
    {
     "data": {
      "text/plain": [
       "bool"
      ]
     },
     "execution_count": 111,
     "metadata": {},
     "output_type": "execute_result"
    }
   ],
   "source": [
    "type(minor)"
   ]
  },
  {
   "cell_type": "code",
   "execution_count": 113,
   "id": "3969d88e-c227-499a-8df1-4e821e3185db",
   "metadata": {},
   "outputs": [
    {
     "data": {
      "text/plain": [
       "str"
      ]
     },
     "execution_count": 113,
     "metadata": {},
     "output_type": "execute_result"
    }
   ],
   "source": [
    "type(name)"
   ]
  },
  {
   "cell_type": "code",
   "execution_count": 118,
   "id": "4d713717-c18d-4649-8792-e68b5500601d",
   "metadata": {},
   "outputs": [
    {
     "data": {
      "text/plain": [
       "2.0"
      ]
     },
     "execution_count": 118,
     "metadata": {},
     "output_type": "execute_result"
    }
   ],
   "source": [
    "8//3*4"
   ]
  },
  {
   "cell_type": "code",
   "execution_count": 120,
   "id": "c05dc692-3c18-4fd6-bba0-475219287892",
   "metadata": {},
   "outputs": [
    {
     "data": {
      "text/plain": [
       "10.666666666666666"
      ]
     },
     "execution_count": 120,
     "metadata": {},
     "output_type": "execute_result"
    }
   ],
   "source": [
    "8/3*4"
   ]
  },
  {
   "cell_type": "code",
   "execution_count": 122,
   "id": "9bdb8766-e370-468f-a3e3-f1c28bd3d311",
   "metadata": {},
   "outputs": [
    {
     "data": {
      "text/plain": [
       "8"
      ]
     },
     "execution_count": 122,
     "metadata": {},
     "output_type": "execute_result"
    }
   ],
   "source": [
    "8%3*4"
   ]
  },
  {
   "cell_type": "code",
   "execution_count": 126,
   "id": "a74854f6-4893-49d8-8d56-62b94286e419",
   "metadata": {},
   "outputs": [
    {
     "name": "stdout",
     "output_type": "stream",
     "text": [
      "2\n"
     ]
    }
   ],
   "source": [
    "s=\"pyyhon is easy\"\n",
    "s1=s[6:-4]\n",
    "s2=s1.strip()\n",
    "print(len(s2))"
   ]
  },
  {
   "cell_type": "code",
   "execution_count": 124,
   "id": "6a6bbd85-a2ef-448f-9924-df5379aa2bd3",
   "metadata": {},
   "outputs": [
    {
     "data": {
      "text/plain": [
       "' is '"
      ]
     },
     "execution_count": 124,
     "metadata": {},
     "output_type": "execute_result"
    }
   ],
   "source": [
    "s1"
   ]
  },
  {
   "cell_type": "code",
   "execution_count": 127,
   "id": "1b64789c-c877-47be-9844-e48397d3eb7e",
   "metadata": {},
   "outputs": [],
   "source": [
    "list=[\"apple\",\"banana\",\"carrot\",\"mango\"]"
   ]
  },
  {
   "cell_type": "code",
   "execution_count": 128,
   "id": "2ed96eb9-fc6e-4c44-8e4d-cda0649c64f9",
   "metadata": {},
   "outputs": [
    {
     "data": {
      "text/plain": [
       "['apple', 'banana', 'carrot', 'mango']"
      ]
     },
     "execution_count": 128,
     "metadata": {},
     "output_type": "execute_result"
    }
   ],
   "source": [
    "list"
   ]
  },
  {
   "cell_type": "code",
   "execution_count": 129,
   "id": "c381deee-2a52-479d-bcd9-98fe035902ed",
   "metadata": {},
   "outputs": [
    {
     "data": {
      "text/plain": [
       "'mango'"
      ]
     },
     "execution_count": 129,
     "metadata": {},
     "output_type": "execute_result"
    }
   ],
   "source": [
    "list[-1]"
   ]
  },
  {
   "cell_type": "code",
   "execution_count": 131,
   "id": "afbb4bcd-73a8-4ae1-9a59-c285b5531df2",
   "metadata": {},
   "outputs": [
    {
     "name": "stdout",
     "output_type": "stream",
     "text": [
      "mango\n"
     ]
    }
   ],
   "source": [
    "print(list[3])"
   ]
  },
  {
   "cell_type": "code",
   "execution_count": 135,
   "id": "4b554b97-5c16-4bbc-ba33-e5020fd3d43b",
   "metadata": {},
   "outputs": [
    {
     "name": "stdout",
     "output_type": "stream",
     "text": [
      "apple\n",
      "banana\n",
      "carrot\n",
      "mango\n"
     ]
    }
   ],
   "source": [
    "l=[\"apple\",\"banana\",\"carrot\",\"mango\"]\n",
    "for x in l:\n",
    "    if len(x) != l[0]:\n",
    "         print(x)"
   ]
  },
  {
   "cell_type": "code",
   "execution_count": 138,
   "id": "9a7f3386-c584-4fef-bef6-3a34cd92c730",
   "metadata": {},
   "outputs": [],
   "source": [
    "l=[\"apple\",\"banana\",\"carrot\",\"mango\"]\n",
    "for x in l:\n",
    "    if len(x) == 3:\n",
    "         print(x)"
   ]
  },
  {
   "cell_type": "code",
   "execution_count": 139,
   "id": "b0073cc9-d1e3-408a-9d20-045a6a61bed0",
   "metadata": {},
   "outputs": [
    {
     "data": {
      "text/plain": [
       "['apple', 'banana', 'carrot', 'mango']"
      ]
     },
     "execution_count": 139,
     "metadata": {},
     "output_type": "execute_result"
    }
   ],
   "source": [
    "l"
   ]
  },
  {
   "cell_type": "code",
   "execution_count": 140,
   "id": "ec5d6f26-9678-4a29-85af-e76f9b7d3455",
   "metadata": {},
   "outputs": [
    {
     "data": {
      "text/plain": [
       "'mango'"
      ]
     },
     "execution_count": 140,
     "metadata": {},
     "output_type": "execute_result"
    }
   ],
   "source": [
    "x"
   ]
  },
  {
   "cell_type": "code",
   "execution_count": 142,
   "id": "026f3682-5237-4d5a-8b84-2131d9c758a7",
   "metadata": {},
   "outputs": [
    {
     "name": "stdout",
     "output_type": "stream",
     "text": [
      "banana\n",
      "carrot\n",
      "mango\n"
     ]
    }
   ],
   "source": [
    "l=[\"apple\",\"banana\",\"carrot\",\"mango\"]\n",
    "l1=l[1:]\n",
    "for x in l1:\n",
    "    \n",
    "         print(x)"
   ]
  },
  {
   "cell_type": "code",
   "execution_count": 145,
   "id": "05f2a202-adaa-462b-ba8e-f8b911486f6c",
   "metadata": {},
   "outputs": [
    {
     "name": "stdout",
     "output_type": "stream",
     "text": [
      "3.0\n"
     ]
    }
   ],
   "source": [
    "a=15\n",
    "b=5\n",
    "print(a/b)"
   ]
  },
  {
   "cell_type": "code",
   "execution_count": 146,
   "id": "acecdaa1-14b0-42e0-8922-afde2c8f7228",
   "metadata": {},
   "outputs": [],
   "source": [
    "a=1\n",
    "b=2\n",
    "c=4\n",
    "d=6"
   ]
  },
  {
   "cell_type": "code",
   "execution_count": 148,
   "id": "9baa62d8-8f5f-442e-9cb9-afecaab7d9d9",
   "metadata": {},
   "outputs": [
    {
     "data": {
      "text/plain": [
       "0"
      ]
     },
     "execution_count": 148,
     "metadata": {},
     "output_type": "execute_result"
    }
   ],
   "source": [
    "(a+b)//c*d"
   ]
  },
  {
   "cell_type": "code",
   "execution_count": 150,
   "id": "542b30d0-3732-468a-b808-5efc3050842f",
   "metadata": {},
   "outputs": [
    {
     "data": {
      "text/plain": [
       "-4"
      ]
     },
     "execution_count": 150,
     "metadata": {},
     "output_type": "execute_result"
    }
   ],
   "source": [
    "(a+b)//d-c"
   ]
  },
  {
   "cell_type": "code",
   "execution_count": 152,
   "id": "2a3dd734-9c99-430e-9257-e79267b30af6",
   "metadata": {},
   "outputs": [
    {
     "name": "stdout",
     "output_type": "stream",
     "text": [
      "is easyeasy\n"
     ]
    }
   ],
   "source": [
    "s='python is easy'\n",
    "s1=s[-7:]\n",
    "s2=s[-4:]\n",
    "print(s1+s2)"
   ]
  },
  {
   "cell_type": "code",
   "execution_count": 154,
   "id": "ceb418bf-a219-45f3-807d-ccf32e3f0c0d",
   "metadata": {},
   "outputs": [
    {
     "name": "stdin",
     "output_type": "stream",
     "text": [
      "Enter a number for the Expression (-4)**2\n"
     ]
    }
   ],
   "source": [
    "a=eval(input(\"Enter a number for the Expression\"))"
   ]
  },
  {
   "cell_type": "code",
   "execution_count": 155,
   "id": "0813a337-bf96-44f0-bf78-43d55f94940b",
   "metadata": {},
   "outputs": [
    {
     "name": "stdout",
     "output_type": "stream",
     "text": [
      "16\n"
     ]
    }
   ],
   "source": [
    "print(a)"
   ]
  },
  {
   "cell_type": "code",
   "execution_count": 156,
   "id": "de8486ea-ff0b-498e-b81a-986065bc34d6",
   "metadata": {},
   "outputs": [
    {
     "data": {
      "text/plain": [
       "16"
      ]
     },
     "execution_count": 156,
     "metadata": {},
     "output_type": "execute_result"
    }
   ],
   "source": [
    "a"
   ]
  },
  {
   "cell_type": "code",
   "execution_count": 157,
   "id": "1ab1b18f-f46f-4ec1-930b-6c78b31f67d2",
   "metadata": {},
   "outputs": [
    {
     "data": {
      "text/plain": [
       "1"
      ]
     },
     "execution_count": 157,
     "metadata": {},
     "output_type": "execute_result"
    }
   ],
   "source": [
    "8//6\n"
   ]
  },
  {
   "cell_type": "code",
   "execution_count": 158,
   "id": "4d579b1d-1198-4a66-ba92-d3eec0d63f11",
   "metadata": {},
   "outputs": [
    {
     "data": {
      "text/plain": [
       "1"
      ]
     },
     "execution_count": 158,
     "metadata": {},
     "output_type": "execute_result"
    }
   ],
   "source": [
    "1%5"
   ]
  },
  {
   "cell_type": "code",
   "execution_count": 159,
   "id": "964dce02-b5cb-41ed-819d-aa2e75dea065",
   "metadata": {},
   "outputs": [
    {
     "data": {
      "text/plain": [
       "7"
      ]
     },
     "execution_count": 159,
     "metadata": {},
     "output_type": "execute_result"
    }
   ],
   "source": [
    "8//6%5+2**3-2"
   ]
  },
  {
   "cell_type": "code",
   "execution_count": 171,
   "id": "a9ea0f2f-07f2-4078-8eeb-9693f21d68b4",
   "metadata": {},
   "outputs": [],
   "source": [
    "a=3\n",
    "b=5\n",
    "#a+=2**3\n",
    "a-=b//2//3"
   ]
  },
  {
   "cell_type": "code",
   "execution_count": 172,
   "id": "20433778-3f4d-4bb5-8a97-66dca3977c74",
   "metadata": {},
   "outputs": [
    {
     "data": {
      "text/plain": [
       "3"
      ]
     },
     "execution_count": 172,
     "metadata": {},
     "output_type": "execute_result"
    }
   ],
   "source": [
    "a"
   ]
  },
  {
   "cell_type": "code",
   "execution_count": 175,
   "id": "63433739-cb41-42ef-a65d-391717bec6d4",
   "metadata": {},
   "outputs": [],
   "source": [
    "a=bool([\" \"])"
   ]
  },
  {
   "cell_type": "code",
   "execution_count": 176,
   "id": "a9455812-3be0-4747-84e9-c7b0f0a4e782",
   "metadata": {},
   "outputs": [
    {
     "data": {
      "text/plain": [
       "True"
      ]
     },
     "execution_count": 176,
     "metadata": {},
     "output_type": "execute_result"
    }
   ],
   "source": [
    "a"
   ]
  },
  {
   "cell_type": "code",
   "execution_count": 178,
   "id": "6f273bc8-e85f-429f-8bd6-179eeb93b78d",
   "metadata": {},
   "outputs": [],
   "source": [
    "a=bool((\"as\"))"
   ]
  },
  {
   "cell_type": "code",
   "execution_count": 179,
   "id": "a23f2571-3ea4-4e88-8518-6e4605dc5a49",
   "metadata": {},
   "outputs": [
    {
     "data": {
      "text/plain": [
       "True"
      ]
     },
     "execution_count": 179,
     "metadata": {},
     "output_type": "execute_result"
    }
   ],
   "source": [
    "a"
   ]
  },
  {
   "cell_type": "code",
   "execution_count": 180,
   "id": "fed354ee-7204-4614-ae88-9019cdbc2977",
   "metadata": {},
   "outputs": [],
   "source": [
    "a=bool((5))"
   ]
  },
  {
   "cell_type": "code",
   "execution_count": 181,
   "id": "a45cc6f6-3aa3-4287-a636-a073f43a0136",
   "metadata": {},
   "outputs": [
    {
     "data": {
      "text/plain": [
       "True"
      ]
     },
     "execution_count": 181,
     "metadata": {},
     "output_type": "execute_result"
    }
   ],
   "source": [
    "a"
   ]
  },
  {
   "cell_type": "code",
   "execution_count": 5,
   "id": "46c95831-b5d5-4d4b-b34f-2294a3ab1d56",
   "metadata": {},
   "outputs": [
    {
     "name": "stdout",
     "output_type": "stream",
     "text": [
      "20\n"
     ]
    }
   ],
   "source": [
    "numbers=[10,20,30,40]\n",
    "x=0\n",
    "for i in [10,20,30,40,50]:\n",
    "    if i in numbers:\n",
    "        x=x+5\n",
    "print(x)"
   ]
  },
  {
   "cell_type": "code",
   "execution_count": 184,
   "id": "d88b2589-0ec6-4358-b9b6-b7d568cc70e7",
   "metadata": {},
   "outputs": [
    {
     "data": {
      "text/plain": [
       "10"
      ]
     },
     "execution_count": 184,
     "metadata": {},
     "output_type": "execute_result"
    }
   ],
   "source": [
    "numbers[0]"
   ]
  },
  {
   "cell_type": "code",
   "execution_count": 3,
   "id": "21419b51-a781-4e24-a86b-6e9a00e2b72a",
   "metadata": {},
   "outputs": [
    {
     "name": "stdout",
     "output_type": "stream",
     "text": [
      "10\n"
     ]
    }
   ],
   "source": [
    "numbers=[10,20,30,40]\n",
    "x=0\n",
    "for i in [10,20,30,40,50] :\n",
    "    if i not in numbers:\n",
    "        x=x+10\n",
    "    \n",
    "\n",
    "print(x)"
   ]
  },
  {
   "cell_type": "code",
   "execution_count": null,
   "id": "2d71ae5b-5042-4972-9f9a-9e57a7b07fa7",
   "metadata": {},
   "outputs": [],
   "source": []
  }
 ],
 "metadata": {
  "kernelspec": {
   "display_name": "Python 3 (ipykernel)",
   "language": "python",
   "name": "python3"
  },
  "language_info": {
   "codemirror_mode": {
    "name": "ipython",
    "version": 3
   },
   "file_extension": ".py",
   "mimetype": "text/x-python",
   "name": "python",
   "nbconvert_exporter": "python",
   "pygments_lexer": "ipython3",
   "version": "3.12.4"
  }
 },
 "nbformat": 4,
 "nbformat_minor": 5
}
