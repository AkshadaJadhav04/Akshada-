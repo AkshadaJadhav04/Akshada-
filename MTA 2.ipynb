{
 "cells": [
  {
   "cell_type": "code",
   "execution_count": 1,
   "id": "1310b5cc-478b-4598-9da4-9dee2559c93b",
   "metadata": {},
   "outputs": [
    {
     "data": {
      "text/plain": [
       "4"
      ]
     },
     "execution_count": 1,
     "metadata": {},
     "output_type": "execute_result"
    }
   ],
   "source": [
    "7%2+3"
   ]
  },
  {
   "cell_type": "code",
   "execution_count": 2,
   "id": "e0183ec2-1e15-407a-85b2-1cee4c17f2b7",
   "metadata": {},
   "outputs": [
    {
     "data": {
      "text/plain": [
       "1"
      ]
     },
     "execution_count": 2,
     "metadata": {},
     "output_type": "execute_result"
    }
   ],
   "source": [
    "7%2"
   ]
  },
  {
   "cell_type": "code",
   "execution_count": 29,
   "id": "cce61dd8-6117-461b-9a29-a6ccc812fd95",
   "metadata": {},
   "outputs": [
    {
     "ename": "ValueError",
     "evalue": "could not convert string to float: 'C:\\\\Users\\\\akash\\\\AppData\\\\Roaming\\\\jupyter\\\\runtime\\\\kernel-1d1bb8bd-6266-4a20-bce0-cf5b1a3a712a.json'",
     "output_type": "error",
     "traceback": [
      "\u001b[1;31m---------------------------------------------------------------------------\u001b[0m",
      "\u001b[1;31mValueError\u001b[0m                                Traceback (most recent call last)",
      "Cell \u001b[1;32mIn[29], line 4\u001b[0m\n\u001b[0;32m      2\u001b[0m \u001b[38;5;28msum\u001b[39m\u001b[38;5;241m=\u001b[39m\u001b[38;5;241m0\u001b[39m\n\u001b[0;32m      3\u001b[0m \u001b[38;5;28;01mfor\u001b[39;00m i \u001b[38;5;129;01min\u001b[39;00m \u001b[38;5;28mrange\u001b[39m(\u001b[38;5;241m2\u001b[39m,\u001b[38;5;28mlen\u001b[39m(argv)):\n\u001b[1;32m----> 4\u001b[0m     \u001b[38;5;28msum\u001b[39m \u001b[38;5;241m+\u001b[39m\u001b[38;5;241m=\u001b[39m \u001b[38;5;28mfloat\u001b[39m(argv[i])\n\u001b[0;32m      6\u001b[0m \u001b[38;5;28mprint\u001b[39m(\u001b[38;5;124m\"\u001b[39m\u001b[38;5;124mthe avarage is \u001b[39m\u001b[38;5;132;01m{0}\u001b[39;00m\u001b[38;5;124m is \u001b[39m\u001b[38;5;132;01m{1:.2F}\u001b[39;00m\u001b[38;5;124m \u001b[39m\u001b[38;5;124m\"\u001b[39m\u001b[38;5;241m.\u001b[39mformat (argv[\u001b[38;5;241m1\u001b[39m],\u001b[38;5;28msum\u001b[39m\u001b[38;5;241m/\u001b[39m(\u001b[38;5;28mlen\u001b[39m(argv[\u001b[38;5;241m1\u001b[39m])\u001b[38;5;241m-\u001b[39m\u001b[38;5;241m2\u001b[39m)))\n",
      "\u001b[1;31mValueError\u001b[0m: could not convert string to float: 'C:\\\\Users\\\\akash\\\\AppData\\\\Roaming\\\\jupyter\\\\runtime\\\\kernel-1d1bb8bd-6266-4a20-bce0-cf5b1a3a712a.json'"
     ]
    }
   ],
   "source": [
    "from sys import argv\n",
    "sum=0\n",
    "for i in range(2,len(argv)):\n",
    "    sum += float(argv[i])\n",
    "\n",
    "print(\"the avarage is {0} is {1:.2F} \".format (argv[1],sum/(len(argv[1])-2)))\n",
    "    \n",
    "    "
   ]
  },
  {
   "cell_type": "code",
   "execution_count": 13,
   "id": "a76167c3-bbdc-454d-a75a-6297bc7b7f31",
   "metadata": {},
   "outputs": [],
   "source": [
    "from sys import argv"
   ]
  },
  {
   "cell_type": "code",
   "execution_count": 14,
   "id": "14b029d9-c440-4d3e-a7b4-2d6ee00d7319",
   "metadata": {},
   "outputs": [],
   "source": [
    "string=\"0\"\n"
   ]
  },
  {
   "cell_type": "code",
   "execution_count": 15,
   "id": "3540a67e-80f1-4a95-8e08-fda38d624e9f",
   "metadata": {},
   "outputs": [],
   "source": [
    "sum=float(string)"
   ]
  },
  {
   "cell_type": "code",
   "execution_count": 18,
   "id": "f1a83769-9040-4506-b13d-dc68d151112a",
   "metadata": {},
   "outputs": [
    {
     "ename": "SyntaxError",
     "evalue": "incomplete input (1475602540.py, line 1)",
     "output_type": "error",
     "traceback": [
      "\u001b[1;36m  Cell \u001b[1;32mIn[18], line 1\u001b[1;36m\u001b[0m\n\u001b[1;33m    for i in range(2,len(argv)):\u001b[0m\n\u001b[1;37m                                ^\u001b[0m\n\u001b[1;31mSyntaxError\u001b[0m\u001b[1;31m:\u001b[0m incomplete input\n"
     ]
    }
   ],
   "source": [
    "for i in range(2,len(argv)):"
   ]
  },
  {
   "cell_type": "code",
   "execution_count": 19,
   "id": "0c445a9b-fd06-44fe-9036-bd340b65edfb",
   "metadata": {},
   "outputs": [
    {
     "ename": "NameError",
     "evalue": "name 'i' is not defined",
     "output_type": "error",
     "traceback": [
      "\u001b[1;31m---------------------------------------------------------------------------\u001b[0m",
      "\u001b[1;31mNameError\u001b[0m                                 Traceback (most recent call last)",
      "Cell \u001b[1;32mIn[19], line 1\u001b[0m\n\u001b[1;32m----> 1\u001b[0m argv[i]\n",
      "\u001b[1;31mNameError\u001b[0m: name 'i' is not defined"
     ]
    }
   ],
   "source": [
    "argv[i]"
   ]
  },
  {
   "cell_type": "code",
   "execution_count": 17,
   "id": "a7cbef40-c754-43f4-9682-f25be9687497",
   "metadata": {},
   "outputs": [
    {
     "data": {
      "text/plain": [
       "3"
      ]
     },
     "execution_count": 17,
     "metadata": {},
     "output_type": "execute_result"
    }
   ],
   "source": [
    "len(argv)"
   ]
  },
  {
   "cell_type": "code",
   "execution_count": 21,
   "id": "9bc5609e-4690-4521-8358-fbfc0d2165ae",
   "metadata": {},
   "outputs": [
    {
     "ename": "ValueError",
     "evalue": "could not convert string to float: 'C:\\\\Users\\\\akash\\\\AppData\\\\Roaming\\\\jupyter\\\\runtime\\\\kernel-1d1bb8bd-6266-4a20-bce0-cf5b1a3a712a.json'",
     "output_type": "error",
     "traceback": [
      "\u001b[1;31m---------------------------------------------------------------------------\u001b[0m",
      "\u001b[1;31mValueError\u001b[0m                                Traceback (most recent call last)",
      "Cell \u001b[1;32mIn[21], line 5\u001b[0m\n\u001b[0;32m      3\u001b[0m \u001b[38;5;28msum\u001b[39m\u001b[38;5;241m=\u001b[39m\u001b[38;5;28mfloat\u001b[39m(string)\n\u001b[0;32m      4\u001b[0m \u001b[38;5;28;01mfor\u001b[39;00m i \u001b[38;5;129;01min\u001b[39;00m \u001b[38;5;28mrange\u001b[39m(\u001b[38;5;241m2\u001b[39m,\u001b[38;5;28mlen\u001b[39m(argv)):\n\u001b[1;32m----> 5\u001b[0m     \u001b[38;5;28msum\u001b[39m \u001b[38;5;241m=\u001b[39m\u001b[38;5;241m+\u001b[39m \u001b[38;5;28mfloat\u001b[39m(argv[i])\n\u001b[0;32m      6\u001b[0m argv[i]\n",
      "\u001b[1;31mValueError\u001b[0m: could not convert string to float: 'C:\\\\Users\\\\akash\\\\AppData\\\\Roaming\\\\jupyter\\\\runtime\\\\kernel-1d1bb8bd-6266-4a20-bce0-cf5b1a3a712a.json'"
     ]
    }
   ],
   "source": [
    "from sys import argv\n",
    "sum=\"0\"\n",
    "sum=float(string)\n",
    "for i in range(2,len(argv)):\n",
    "    sum =+ float(argv[i])\n",
    "argv[i]"
   ]
  },
  {
   "cell_type": "code",
   "execution_count": null,
   "id": "83403126-5abb-48d3-bf97-c338c219ab12",
   "metadata": {},
   "outputs": [],
   "source": []
  },
  {
   "cell_type": "code",
   "execution_count": null,
   "id": "63163b93-5398-48bc-afdf-a4e8edc11489",
   "metadata": {},
   "outputs": [],
   "source": []
  },
  {
   "cell_type": "code",
   "execution_count": null,
   "id": "9849e60e-eb89-40cf-a9e7-ca60be2b8145",
   "metadata": {},
   "outputs": [],
   "source": []
  },
  {
   "cell_type": "code",
   "execution_count": null,
   "id": "d12c9d4e-d170-4660-b684-eae04c4f6f01",
   "metadata": {},
   "outputs": [],
   "source": []
  },
  {
   "cell_type": "code",
   "execution_count": 35,
   "id": "832276e2-a83e-4a2b-88ff-8b02f69331d8",
   "metadata": {},
   "outputs": [],
   "source": [
    "x=3\n",
    "x+=1\n",
    "x**=2"
   ]
  },
  {
   "cell_type": "code",
   "execution_count": 36,
   "id": "b0c2d395-90c6-48ec-884c-0d06ebbb0404",
   "metadata": {},
   "outputs": [
    {
     "data": {
      "text/plain": [
       "16"
      ]
     },
     "execution_count": 36,
     "metadata": {},
     "output_type": "execute_result"
    }
   ],
   "source": [
    "x"
   ]
  },
  {
   "cell_type": "code",
   "execution_count": 39,
   "id": "f9ac2af9-180c-4d1b-a684-31d4691da441",
   "metadata": {},
   "outputs": [],
   "source": [
    "x=3\n",
    "x+=1\n",
    "\n",
    "x*=2"
   ]
  },
  {
   "cell_type": "code",
   "execution_count": 40,
   "id": "ef84fce8-6fb2-4252-a98e-8eb18f50ac87",
   "metadata": {},
   "outputs": [
    {
     "data": {
      "text/plain": [
       "8"
      ]
     },
     "execution_count": 40,
     "metadata": {},
     "output_type": "execute_result"
    }
   ],
   "source": [
    "x"
   ]
  },
  {
   "cell_type": "code",
   "execution_count": 42,
   "id": "ae495951-0dee-4df3-8652-851cba016a21",
   "metadata": {},
   "outputs": [
    {
     "name": "stdin",
     "output_type": "stream",
     "text": [
      "Enter any value: 10,10\n"
     ]
    },
    {
     "name": "stdout",
     "output_type": "stream",
     "text": [
      "<class 'str'>\n"
     ]
    }
   ],
   "source": [
    "print(type(input(\"Enter any value:\")))"
   ]
  },
  {
   "cell_type": "code",
   "execution_count": 1,
   "id": "af777a22-7057-4c28-8911-dacce47583b9",
   "metadata": {},
   "outputs": [],
   "source": [
    "a='5'\n",
    "b='2'"
   ]
  },
  {
   "cell_type": "code",
   "execution_count": 2,
   "id": "06241def-864b-4f29-998a-05dbab273b5d",
   "metadata": {},
   "outputs": [
    {
     "ename": "TypeError",
     "evalue": "can't multiply sequence by non-int of type 'str'",
     "output_type": "error",
     "traceback": [
      "\u001b[1;31m---------------------------------------------------------------------------\u001b[0m",
      "\u001b[1;31mTypeError\u001b[0m                                 Traceback (most recent call last)",
      "Cell \u001b[1;32mIn[2], line 1\u001b[0m\n\u001b[1;32m----> 1\u001b[0m a\u001b[38;5;241m*\u001b[39mb\n",
      "\u001b[1;31mTypeError\u001b[0m: can't multiply sequence by non-int of type 'str'"
     ]
    }
   ],
   "source": [
    "a*b"
   ]
  },
  {
   "cell_type": "code",
   "execution_count": 3,
   "id": "c4e1632d-8b5f-46f0-acb6-03c1d92a43ad",
   "metadata": {},
   "outputs": [
    {
     "ename": "TypeError",
     "evalue": "unsupported operand type(s) for ** or pow(): 'str' and 'int'",
     "output_type": "error",
     "traceback": [
      "\u001b[1;31m---------------------------------------------------------------------------\u001b[0m",
      "\u001b[1;31mTypeError\u001b[0m                                 Traceback (most recent call last)",
      "Cell \u001b[1;32mIn[3], line 1\u001b[0m\n\u001b[1;32m----> 1\u001b[0m a\u001b[38;5;241m*\u001b[39m\u001b[38;5;241m*\u001b[39m\u001b[38;5;241m2\u001b[39m\n",
      "\u001b[1;31mTypeError\u001b[0m: unsupported operand type(s) for ** or pow(): 'str' and 'int'"
     ]
    }
   ],
   "source": [
    "a**2"
   ]
  },
  {
   "cell_type": "code",
   "execution_count": 4,
   "id": "dfb73f59-1e6c-455e-b192-f284209bc6b3",
   "metadata": {},
   "outputs": [
    {
     "data": {
      "text/plain": [
       "'55'"
      ]
     },
     "execution_count": 4,
     "metadata": {},
     "output_type": "execute_result"
    }
   ],
   "source": [
    "a*2"
   ]
  },
  {
   "cell_type": "code",
   "execution_count": 5,
   "id": "ba8eb871-6b3a-493a-8afb-b1ee7b662d86",
   "metadata": {},
   "outputs": [
    {
     "data": {
      "text/plain": [
       "'52'"
      ]
     },
     "execution_count": 5,
     "metadata": {},
     "output_type": "execute_result"
    }
   ],
   "source": [
    "a+b"
   ]
  },
  {
   "cell_type": "code",
   "execution_count": 6,
   "id": "d6ab52df-38f5-4573-af04-b24d504750c7",
   "metadata": {},
   "outputs": [
    {
     "ename": "TypeError",
     "evalue": "unsupported operand type(s) for -: 'str' and 'str'",
     "output_type": "error",
     "traceback": [
      "\u001b[1;31m---------------------------------------------------------------------------\u001b[0m",
      "\u001b[1;31mTypeError\u001b[0m                                 Traceback (most recent call last)",
      "Cell \u001b[1;32mIn[6], line 1\u001b[0m\n\u001b[1;32m----> 1\u001b[0m a\u001b[38;5;241m-\u001b[39mb\n",
      "\u001b[1;31mTypeError\u001b[0m: unsupported operand type(s) for -: 'str' and 'str'"
     ]
    }
   ],
   "source": [
    "a-b"
   ]
  },
  {
   "cell_type": "code",
   "execution_count": 7,
   "id": "452b99e8-8dd4-4b93-a2b7-ae1b21291310",
   "metadata": {},
   "outputs": [
    {
     "ename": "TypeError",
     "evalue": "can only concatenate str (not \"int\") to str",
     "output_type": "error",
     "traceback": [
      "\u001b[1;31m---------------------------------------------------------------------------\u001b[0m",
      "\u001b[1;31mTypeError\u001b[0m                                 Traceback (most recent call last)",
      "Cell \u001b[1;32mIn[7], line 1\u001b[0m\n\u001b[1;32m----> 1\u001b[0m a\u001b[38;5;241m+\u001b[39m\u001b[38;5;241m2\u001b[39m\n",
      "\u001b[1;31mTypeError\u001b[0m: can only concatenate str (not \"int\") to str"
     ]
    }
   ],
   "source": [
    "a+2"
   ]
  },
  {
   "cell_type": "code",
   "execution_count": 8,
   "id": "68c71323-4904-4f1f-a374-805ccc80a8e9",
   "metadata": {},
   "outputs": [
    {
     "ename": "TypeError",
     "evalue": "unsupported operand type(s) for -: 'str' and 'int'",
     "output_type": "error",
     "traceback": [
      "\u001b[1;31m---------------------------------------------------------------------------\u001b[0m",
      "\u001b[1;31mTypeError\u001b[0m                                 Traceback (most recent call last)",
      "Cell \u001b[1;32mIn[8], line 1\u001b[0m\n\u001b[1;32m----> 1\u001b[0m a\u001b[38;5;241m-\u001b[39m\u001b[38;5;241m2\u001b[39m\n",
      "\u001b[1;31mTypeError\u001b[0m: unsupported operand type(s) for -: 'str' and 'int'"
     ]
    }
   ],
   "source": [
    "a-2"
   ]
  },
  {
   "cell_type": "code",
   "execution_count": 9,
   "id": "62c2360c-f52f-4a52-a7be-75b081a84d42",
   "metadata": {},
   "outputs": [
    {
     "name": "stdin",
     "output_type": "stream",
     "text": [
      "Enter any value: 10\n"
     ]
    },
    {
     "name": "stdout",
     "output_type": "stream",
     "text": [
      "<class 'int'>\n"
     ]
    }
   ],
   "source": [
    "print(type(eval(input(\"Enter any value:\"))))"
   ]
  },
  {
   "cell_type": "code",
   "execution_count": 10,
   "id": "d54d3b40-1333-46e3-bded-50b96c2cfd57",
   "metadata": {},
   "outputs": [
    {
     "name": "stdin",
     "output_type": "stream",
     "text": [
      "Enter any value: 10.0\n"
     ]
    },
    {
     "name": "stdout",
     "output_type": "stream",
     "text": [
      "<class 'float'>\n"
     ]
    }
   ],
   "source": [
    "print(type(eval(input(\"Enter any value:\"))))"
   ]
  },
  {
   "cell_type": "code",
   "execution_count": 11,
   "id": "5e804fa7-c760-406d-8ecb-ea26261da287",
   "metadata": {},
   "outputs": [],
   "source": [
    "a=7\n",
    "b=3\n",
    "c=5\n",
    "d=1"
   ]
  },
  {
   "cell_type": "code",
   "execution_count": 12,
   "id": "3147dc31-38dc-4139-bf46-4bb57503bf91",
   "metadata": {},
   "outputs": [
    {
     "data": {
      "text/plain": [
       "9"
      ]
     },
     "execution_count": 12,
     "metadata": {},
     "output_type": "execute_result"
    }
   ],
   "source": [
    "(a+b)-d"
   ]
  },
  {
   "cell_type": "code",
   "execution_count": 13,
   "id": "8156941f-702e-4843-8747-dc69b48d4842",
   "metadata": {},
   "outputs": [
    {
     "data": {
      "text/plain": [
       "9"
      ]
     },
     "execution_count": 13,
     "metadata": {},
     "output_type": "execute_result"
    }
   ],
   "source": [
    "b+c+d"
   ]
  },
  {
   "cell_type": "code",
   "execution_count": 14,
   "id": "7fec1e5b-2bc0-4b4d-a2db-b7f9a08366d6",
   "metadata": {},
   "outputs": [
    {
     "name": "stdout",
     "output_type": "stream",
     "text": [
      "C:\\ProgramData\\anaconda3\\Lib\\site-packages\\ipykernel_launcher.py\n"
     ]
    }
   ],
   "source": [
    "from sys import argv\n",
    "print(argv[0])"
   ]
  },
  {
   "cell_type": "code",
   "execution_count": 15,
   "id": "14f9a176-ec95-4cb9-8258-f70ec31fb5fb",
   "metadata": {},
   "outputs": [
    {
     "data": {
      "text/plain": [
       "0"
      ]
     },
     "execution_count": 15,
     "metadata": {},
     "output_type": "execute_result"
    }
   ],
   "source": [
    "2//3\n"
   ]
  },
  {
   "cell_type": "code",
   "execution_count": 19,
   "id": "6b40f223-da24-4e7f-8635-ecc65c824bec",
   "metadata": {},
   "outputs": [
    {
     "data": {
      "text/plain": [
       "1"
      ]
     },
     "execution_count": 19,
     "metadata": {},
     "output_type": "execute_result"
    }
   ],
   "source": [
    "1%5"
   ]
  },
  {
   "cell_type": "code",
   "execution_count": 18,
   "id": "79dc06d3-f6ed-4b63-933a-09e1ee8b0985",
   "metadata": {},
   "outputs": [
    {
     "data": {
      "text/plain": [
       "0"
      ]
     },
     "execution_count": 18,
     "metadata": {},
     "output_type": "execute_result"
    }
   ],
   "source": [
    "5%1"
   ]
  },
  {
   "cell_type": "code",
   "execution_count": 20,
   "id": "e546b9f4-001c-474b-954e-23ab2efb64c6",
   "metadata": {},
   "outputs": [
    {
     "data": {
      "text/plain": [
       "9"
      ]
     },
     "execution_count": 20,
     "metadata": {},
     "output_type": "execute_result"
    }
   ],
   "source": [
    "6//4%5+2**3-2//3"
   ]
  },
  {
   "cell_type": "code",
   "execution_count": 1,
   "id": "540a3c20-f94b-4591-a236-236ea69823ba",
   "metadata": {},
   "outputs": [],
   "source": [
    "x='TEXT'"
   ]
  },
  {
   "cell_type": "code",
   "execution_count": 4,
   "id": "3eb11bea-7359-44a7-ab3c-be8d93574248",
   "metadata": {},
   "outputs": [
    {
     "data": {
      "text/plain": [
       "'TT'"
      ]
     },
     "execution_count": 4,
     "metadata": {},
     "output_type": "execute_result"
    }
   ],
   "source": [
    "x[0]+x[3]"
   ]
  },
  {
   "cell_type": "code",
   "execution_count": 5,
   "id": "70c4685b-39f6-410c-9b0f-f49ded24bad5",
   "metadata": {},
   "outputs": [],
   "source": [
    "x=['TEXT']"
   ]
  },
  {
   "cell_type": "code",
   "execution_count": 10,
   "id": "dd539a07-e541-4849-a135-c70a69600b02",
   "metadata": {},
   "outputs": [
    {
     "data": {
      "text/plain": [
       "['TEXT']"
      ]
     },
     "execution_count": 10,
     "metadata": {},
     "output_type": "execute_result"
    }
   ],
   "source": [
    "x[0:1:4]"
   ]
  },
  {
   "cell_type": "code",
   "execution_count": 11,
   "id": "765cc346-588b-4c3a-9567-b61082de01d2",
   "metadata": {},
   "outputs": [
    {
     "name": "stdout",
     "output_type": "stream",
     "text": [
      "False\n",
      "True\n",
      "False\n"
     ]
    }
   ],
   "source": [
    "print(10==10 and 20!=20)\n",
    "print(10==10 or 20!=20)\n",
    "print(not 10==10)\n"
   ]
  },
  {
   "cell_type": "code",
   "execution_count": 12,
   "id": "19751398-1daf-47c0-8557-ce03899ed392",
   "metadata": {},
   "outputs": [],
   "source": [
    "a=float(123.456)"
   ]
  },
  {
   "cell_type": "code",
   "execution_count": 13,
   "id": "0783d225-b619-4cdd-9a28-56fa9a51ff54",
   "metadata": {},
   "outputs": [
    {
     "data": {
      "text/plain": [
       "float"
      ]
     },
     "execution_count": 13,
     "metadata": {},
     "output_type": "execute_result"
    }
   ],
   "source": [
    "type(a)"
   ]
  },
  {
   "cell_type": "code",
   "execution_count": 14,
   "id": "a8b6971d-b973-40cb-9c35-37698021daa3",
   "metadata": {},
   "outputs": [
    {
     "data": {
      "text/plain": [
       "True"
      ]
     },
     "execution_count": 14,
     "metadata": {},
     "output_type": "execute_result"
    }
   ],
   "source": [
    "bool(a)"
   ]
  },
  {
   "cell_type": "code",
   "execution_count": 22,
   "id": "0460a7dd-db19-4d5b-ae2e-8a4e6e83739e",
   "metadata": {},
   "outputs": [
    {
     "data": {
      "text/plain": [
       "123"
      ]
     },
     "execution_count": 22,
     "metadata": {},
     "output_type": "execute_result"
    }
   ],
   "source": [
    "int(a)+False"
   ]
  },
  {
   "cell_type": "code",
   "execution_count": 16,
   "id": "aab8942d-74b3-4264-8f45-18dd9979a290",
   "metadata": {},
   "outputs": [
    {
     "data": {
      "text/plain": [
       "float"
      ]
     },
     "execution_count": 16,
     "metadata": {},
     "output_type": "execute_result"
    }
   ],
   "source": [
    "type(a)"
   ]
  },
  {
   "cell_type": "code",
   "execution_count": 18,
   "id": "bab7e945-3376-42dc-9fb1-220a30062eb1",
   "metadata": {},
   "outputs": [
    {
     "data": {
      "text/plain": [
       "2"
      ]
     },
     "execution_count": 18,
     "metadata": {},
     "output_type": "execute_result"
    }
   ],
   "source": [
    "bool(a)+True"
   ]
  },
  {
   "cell_type": "code",
   "execution_count": 19,
   "id": "3b53d7ae-c93f-4a24-8d8e-bdee9bfbf49c",
   "metadata": {},
   "outputs": [
    {
     "data": {
      "text/plain": [
       "1"
      ]
     },
     "execution_count": 19,
     "metadata": {},
     "output_type": "execute_result"
    }
   ],
   "source": [
    "bool(a)+False"
   ]
  },
  {
   "cell_type": "code",
   "execution_count": 26,
   "id": "4495831c-7f87-44de-bacb-d44f12b55efd",
   "metadata": {},
   "outputs": [
    {
     "name": "stdin",
     "output_type": "stream",
     "text": [
      "Enter the distance travelled in feet: 2540\n",
      "Enter the  time elapsed in second: 2540\n"
     ]
    },
    {
     "name": "stdout",
     "output_type": "stream",
     "text": [
      "The average Velocity: 0.6818181818181818 miles/hour\n"
     ]
    }
   ],
   "source": [
    "distance=float(input(\"Enter the distance travelled in feet:\"))\n",
    "distance_miles=distance/5280\n",
    "time=float(input(\"Enter the  time elapsed in second:\"))\n",
    "time_hours=time/3600\n",
    "velocity=distance_miles/time_hours\n",
    "print('The average Velocity:',velocity,'miles/hour')"
   ]
  },
  {
   "cell_type": "code",
   "execution_count": 29,
   "id": "aa731d42-199e-4d84-9896-6a37fbe0c0d8",
   "metadata": {},
   "outputs": [
    {
     "name": "stdin",
     "output_type": "stream",
     "text": [
      "How many items you required: 12.23\n"
     ]
    },
    {
     "ename": "ValueError",
     "evalue": "invalid literal for int() with base 10: '12.23'",
     "output_type": "error",
     "traceback": [
      "\u001b[1;31m---------------------------------------------------------------------------\u001b[0m",
      "\u001b[1;31mValueError\u001b[0m                                Traceback (most recent call last)",
      "Cell \u001b[1;32mIn[29], line 1\u001b[0m\n\u001b[1;32m----> 1\u001b[0m total_items\u001b[38;5;241m=\u001b[39m\u001b[38;5;28mint\u001b[39m(\u001b[38;5;28minput\u001b[39m(\u001b[38;5;124m\"\u001b[39m\u001b[38;5;124mHow many items you required:\u001b[39m\u001b[38;5;124m\"\u001b[39m))\n",
      "\u001b[1;31mValueError\u001b[0m: invalid literal for int() with base 10: '12.23'"
     ]
    }
   ],
   "source": [
    "total_items=int(input(\"How many items you required:\"))"
   ]
  },
  {
   "cell_type": "code",
   "execution_count": 32,
   "id": "19854a1e-7dde-4613-9f03-32c99102a63d",
   "metadata": {},
   "outputs": [
    {
     "name": "stdin",
     "output_type": "stream",
     "text": [
      "How many items you required: 52\n"
     ]
    },
    {
     "name": "stdout",
     "output_type": "stream",
     "text": [
      "52\n"
     ]
    }
   ],
   "source": [
    "total_items=int(float(input(\"How many items you required:\")))\n",
    "print(total_items)\n"
   ]
  },
  {
   "cell_type": "code",
   "execution_count": 36,
   "id": "6cf25450-37d2-4a40-8049-caa6db46e5f4",
   "metadata": {},
   "outputs": [
    {
     "name": "stdout",
     "output_type": "stream",
     "text": [
      "True\n"
     ]
    }
   ],
   "source": [
    "print('r' in 'Durga')"
   ]
  },
  {
   "cell_type": "code",
   "execution_count": 37,
   "id": "5cf0686f-3b50-4ad6-bff7-196e438eb133",
   "metadata": {},
   "outputs": [
    {
     "name": "stdout",
     "output_type": "stream",
     "text": [
      "False\n"
     ]
    }
   ],
   "source": [
    "print('v' in 'Durga')"
   ]
  },
  {
   "cell_type": "code",
   "execution_count": 38,
   "id": "80ef6b5a-e094-47f9-989e-dcb7c493c533",
   "metadata": {},
   "outputs": [
    {
     "name": "stdout",
     "output_type": "stream",
     "text": [
      "False\n"
     ]
    }
   ],
   "source": [
    "a=45\n",
    "b=45\n",
    "print(a is not b)"
   ]
  },
  {
   "cell_type": "code",
   "execution_count": 39,
   "id": "e5d397a2-2226-45b8-80a1-8c354a2e379b",
   "metadata": {},
   "outputs": [
    {
     "name": "stdout",
     "output_type": "stream",
     "text": [
      "True\n"
     ]
    }
   ],
   "source": [
    "a=45\n",
    "b=45\n",
    "print(a is b)"
   ]
  },
  {
   "cell_type": "code",
   "execution_count": 42,
   "id": "0394f8f1-b849-4e73-89be-6b8af2294354",
   "metadata": {},
   "outputs": [
    {
     "name": "stdout",
     "output_type": "stream",
     "text": [
      "False\n"
     ]
    }
   ],
   "source": [
    "s1=\"the python course\"\n",
    "s2=\"the python course\".upper()\n",
    "print(s1==s2)"
   ]
  },
  {
   "cell_type": "code",
   "execution_count": 41,
   "id": "1418d2b6-d400-4b0a-9c04-d43b9edd3cdd",
   "metadata": {},
   "outputs": [
    {
     "data": {
      "text/plain": [
       "'THE PYTHON COURSE'"
      ]
     },
     "execution_count": 41,
     "metadata": {},
     "output_type": "execute_result"
    }
   ],
   "source": [
    "s2"
   ]
  },
  {
   "cell_type": "code",
   "execution_count": 45,
   "id": "ed3702e3-35f9-45c5-843b-18d1067cad7e",
   "metadata": {},
   "outputs": [
    {
     "name": "stdout",
     "output_type": "stream",
     "text": [
      "True\n"
     ]
    }
   ],
   "source": [
    "print('is' in 'this IS a python course') "
   ]
  },
  {
   "cell_type": "code",
   "execution_count": 46,
   "id": "177df9b3-cb0e-420d-9b80-f8e733b6b4ab",
   "metadata": {},
   "outputs": [
    {
     "name": "stdout",
     "output_type": "stream",
     "text": [
      "False\n"
     ]
    }
   ],
   "source": [
    "print('is' in ' IS a python course') "
   ]
  },
  {
   "cell_type": "code",
   "execution_count": 47,
   "id": "4449a2a1-08a4-4283-a959-0a772d7d3477",
   "metadata": {},
   "outputs": [
    {
     "name": "stdout",
     "output_type": "stream",
     "text": [
      "False\n",
      "True\n"
     ]
    }
   ],
   "source": [
    "x=[1,2,3]\n",
    "y=[1,2,3]\n",
    "print(x is y)\n",
    "print(x==y)"
   ]
  },
  {
   "cell_type": "code",
   "execution_count": 49,
   "id": "0bfcc494-688f-414c-a8a7-89ccf7d69078",
   "metadata": {},
   "outputs": [
    {
     "name": "stdout",
     "output_type": "stream",
     "text": [
      "True\n"
     ]
    }
   ],
   "source": [
    "x=123\n",
    "y=123\n",
    "print(x is y)"
   ]
  },
  {
   "cell_type": "code",
   "execution_count": 50,
   "id": "007a65e0-641c-4786-820e-15fcd8add67b",
   "metadata": {},
   "outputs": [
    {
     "data": {
      "text/plain": [
       "10"
      ]
     },
     "execution_count": 50,
     "metadata": {},
     "output_type": "execute_result"
    }
   ],
   "source": [
    "x=2\n",
    "y=3\n",
    "x+=2**3\n",
    "x\n"
   ]
  },
  {
   "cell_type": "code",
   "execution_count": 53,
   "id": "d9287ce4-58a5-4c23-be51-4b0abf285c4b",
   "metadata": {},
   "outputs": [
    {
     "name": "stdout",
     "output_type": "stream",
     "text": [
      "-f\n"
     ]
    }
   ],
   "source": [
    "from sys  import argv\n",
    "print(argv[1])"
   ]
  },
  {
   "cell_type": "code",
   "execution_count": 1,
   "id": "6d7456ab-bfc9-4acc-ac99-0c341877f1e0",
   "metadata": {},
   "outputs": [
    {
     "name": "stdin",
     "output_type": "stream",
     "text": [
      "Enter the value: 12345\n"
     ]
    },
    {
     "name": "stdout",
     "output_type": "stream",
     "text": [
      "12346\n"
     ]
    }
   ],
   "source": [
    "count=int(input(\"Enter the value:\"))\n",
    "print(count+1)"
   ]
  },
  {
   "cell_type": "code",
   "execution_count": 57,
   "id": "6e7ecf8b-4e21-4c34-baaf-6fd0146aaac7",
   "metadata": {},
   "outputs": [
    {
     "name": "stdin",
     "output_type": "stream",
     "text": [
      "Enter the value: 12345\n"
     ]
    },
    {
     "name": "stdout",
     "output_type": "stream",
     "text": [
      "12346\n"
     ]
    }
   ],
   "source": [
    "count=eval(input(\"Enter the value:\"))\n",
    "print(count+1)"
   ]
  },
  {
   "cell_type": "code",
   "execution_count": 59,
   "id": "8376104f-7108-4b54-a814-61ccc98c2371",
   "metadata": {},
   "outputs": [],
   "source": [
    "t=([10,10],10,' False')"
   ]
  },
  {
   "cell_type": "code",
   "execution_count": 60,
   "id": "0f1f174e-0b02-4dda-8d8b-e7f56a536887",
   "metadata": {},
   "outputs": [
    {
     "data": {
      "text/plain": [
       "list"
      ]
     },
     "execution_count": 60,
     "metadata": {},
     "output_type": "execute_result"
    }
   ],
   "source": [
    "type(t[0])"
   ]
  },
  {
   "cell_type": "code",
   "execution_count": 62,
   "id": "558096dd-5df2-4d6b-aa64-04ed8dd473b4",
   "metadata": {},
   "outputs": [
    {
     "data": {
      "text/plain": [
       "int"
      ]
     },
     "execution_count": 62,
     "metadata": {},
     "output_type": "execute_result"
    }
   ],
   "source": [
    "type(t[1])"
   ]
  },
  {
   "cell_type": "code",
   "execution_count": 63,
   "id": "c7c7b193-11ea-4154-84d2-d7774872077d",
   "metadata": {},
   "outputs": [
    {
     "data": {
      "text/plain": [
       "2"
      ]
     },
     "execution_count": 63,
     "metadata": {},
     "output_type": "execute_result"
    }
   ],
   "source": [
    "22%5"
   ]
  },
  {
   "cell_type": "code",
   "execution_count": 64,
   "id": "46b1dbbf-6ad3-4c66-836f-c0527af44ddf",
   "metadata": {},
   "outputs": [
    {
     "data": {
      "text/plain": [
       "3"
      ]
     },
     "execution_count": 64,
     "metadata": {},
     "output_type": "execute_result"
    }
   ],
   "source": [
    "13//4"
   ]
  },
  {
   "cell_type": "code",
   "execution_count": 65,
   "id": "46c9338b-57a5-425b-9209-e0fd3843d598",
   "metadata": {},
   "outputs": [],
   "source": [
    "x=3/3+3**3-3"
   ]
  },
  {
   "cell_type": "code",
   "execution_count": 66,
   "id": "c10ef5e3-2e9e-4165-955d-2467a3826891",
   "metadata": {},
   "outputs": [
    {
     "data": {
      "text/plain": [
       "25.0"
      ]
     },
     "execution_count": 66,
     "metadata": {},
     "output_type": "execute_result"
    }
   ],
   "source": [
    "x"
   ]
  },
  {
   "cell_type": "code",
   "execution_count": 67,
   "id": "fae9b7e6-b2ac-4883-9a02-3f4edaf48bf8",
   "metadata": {},
   "outputs": [],
   "source": [
    "x=3//3+3**3-3"
   ]
  },
  {
   "cell_type": "code",
   "execution_count": 68,
   "id": "7912f574-7660-480f-98c5-104d57b58c9a",
   "metadata": {},
   "outputs": [
    {
     "data": {
      "text/plain": [
       "25"
      ]
     },
     "execution_count": 68,
     "metadata": {},
     "output_type": "execute_result"
    }
   ],
   "source": [
    "x"
   ]
  },
  {
   "cell_type": "code",
   "execution_count": 75,
   "id": "47f75d57-fd3b-44cc-a283-a3c8d32fb4aa",
   "metadata": {},
   "outputs": [],
   "source": [
    "result=str(bool(1)+float(10)/float(2))"
   ]
  },
  {
   "cell_type": "code",
   "execution_count": 76,
   "id": "ee284273-7fb3-4084-bb17-507b6c78d10a",
   "metadata": {},
   "outputs": [
    {
     "data": {
      "text/plain": [
       "'6.0'"
      ]
     },
     "execution_count": 76,
     "metadata": {},
     "output_type": "execute_result"
    }
   ],
   "source": [
    "result"
   ]
  },
  {
   "cell_type": "code",
   "execution_count": 77,
   "id": "f5a471fb-ba6c-4db7-8381-097eaf1d8652",
   "metadata": {},
   "outputs": [
    {
     "data": {
      "text/plain": [
       "True"
      ]
     },
     "execution_count": 77,
     "metadata": {},
     "output_type": "execute_result"
    }
   ],
   "source": [
    "bool(1)"
   ]
  },
  {
   "cell_type": "code",
   "execution_count": 72,
   "id": "819044ca-34c3-4455-9065-e8d998675623",
   "metadata": {},
   "outputs": [
    {
     "data": {
      "text/plain": [
       "5.0"
      ]
     },
     "execution_count": 72,
     "metadata": {},
     "output_type": "execute_result"
    }
   ],
   "source": [
    "float(10)/float(2)"
   ]
  },
  {
   "cell_type": "code",
   "execution_count": 78,
   "id": "91216a6d-17e1-4c67-a192-6c8b0c6711db",
   "metadata": {},
   "outputs": [
    {
     "name": "stdout",
     "output_type": "stream",
     "text": [
      "-fC:\\Users\\akash\\AppData\\Roaming\\jupyter\\runtime\\kernel-1d1bb8bd-6266-4a20-bce0-cf5b1a3a712a.json\n"
     ]
    }
   ],
   "source": [
    "from sys import argv\n",
    "print(argv[1]+argv[2])"
   ]
  },
  {
   "cell_type": "code",
   "execution_count": null,
   "id": "a27b677f-b34a-44d4-a9d3-2e8f3b6ba544",
   "metadata": {},
   "outputs": [],
   "source": [
    "#print(\"Enter your name :\")\n",
    "name=input(\"Enter your name\")\n",
    "print(name)\n"
   ]
  },
  {
   "cell_type": "code",
   "execution_count": 2,
   "id": "c411b665-9ff4-4411-9a4b-e563c9769383",
   "metadata": {},
   "outputs": [
    {
     "name": "stdout",
     "output_type": "stream",
     "text": [
      "True\n",
      "False\n",
      "False\n",
      "False\n",
      "True\n"
     ]
    }
   ],
   "source": [
    "print(not 0)\n",
    "print(not 10)\n",
    "print(not ' ')\n",
    "print(not 'Durga')\n",
    "print(not None)\n"
   ]
  },
  {
   "cell_type": "code",
   "execution_count": 31,
   "id": "3b00f0f9-5939-411e-8e35-76e9415b58c6",
   "metadata": {},
   "outputs": [
    {
     "name": "stdout",
     "output_type": "stream",
     "text": [
      "16\n"
     ]
    },
    {
     "data": {
      "text/plain": [
       "int"
      ]
     },
     "execution_count": 31,
     "metadata": {},
     "output_type": "execute_result"
    }
   ],
   "source": [
    "x=2**2**2\n",
    "print(x)\n",
    "type(x)"
   ]
  },
  {
   "cell_type": "code",
   "execution_count": 11,
   "id": "a002eb53-e513-4709-85d8-f3b5358ee607",
   "metadata": {},
   "outputs": [],
   "source": [
    "s= \"\""
   ]
  },
  {
   "cell_type": "code",
   "execution_count": 12,
   "id": "6ec77621-45c5-4476-8a13-a74cea7933f7",
   "metadata": {},
   "outputs": [
    {
     "data": {
      "text/plain": [
       "100"
      ]
     },
     "execution_count": 12,
     "metadata": {},
     "output_type": "execute_result"
    }
   ],
   "source": [
    "int(s)"
   ]
  },
  {
   "cell_type": "code",
   "execution_count": 30,
   "id": "1023b657-c388-4e0f-9130-f2902b216f06",
   "metadata": {},
   "outputs": [
    {
     "data": {
      "text/plain": [
       "str"
      ]
     },
     "execution_count": 30,
     "metadata": {},
     "output_type": "execute_result"
    }
   ],
   "source": [
    "x='47'\n",
    "type(x)\n"
   ]
  },
  {
   "cell_type": "code",
   "execution_count": 34,
   "id": "855fcf9c-8e4b-45f6-ba27-1647b05c4289",
   "metadata": {},
   "outputs": [],
   "source": [
    "s=\"Durga Soft\"\n",
    "result=len(s)"
   ]
  },
  {
   "cell_type": "code",
   "execution_count": 35,
   "id": "c2f01c5d-fe86-4db1-84de-c39342f13f6d",
   "metadata": {},
   "outputs": [
    {
     "data": {
      "text/plain": [
       "10"
      ]
     },
     "execution_count": 35,
     "metadata": {},
     "output_type": "execute_result"
    }
   ],
   "source": [
    "result"
   ]
  },
  {
   "cell_type": "code",
   "execution_count": 38,
   "id": "d12ccd9d-d08a-46d4-8b76-0a5a37f7c00f",
   "metadata": {},
   "outputs": [],
   "source": [
    "s=\"Durga Soft\"\n",
    "result=len(s[0])"
   ]
  },
  {
   "cell_type": "code",
   "execution_count": 39,
   "id": "30780e6b-6615-4a09-84bd-7a4899560f67",
   "metadata": {},
   "outputs": [
    {
     "data": {
      "text/plain": [
       "1"
      ]
     },
     "execution_count": 39,
     "metadata": {},
     "output_type": "execute_result"
    }
   ],
   "source": [
    "result"
   ]
  },
  {
   "cell_type": "code",
   "execution_count": 41,
   "id": "cdd2f8c7-e706-47d6-b81d-435ed7fc62c1",
   "metadata": {},
   "outputs": [],
   "source": [
    "s=\"Durga Soft\"\n",
    "result=len(s.replace(\" \",''))"
   ]
  },
  {
   "cell_type": "code",
   "execution_count": 42,
   "id": "1965fe5c-8722-4ffe-9566-e0d882a996ae",
   "metadata": {},
   "outputs": [
    {
     "data": {
      "text/plain": [
       "9"
      ]
     },
     "execution_count": 42,
     "metadata": {},
     "output_type": "execute_result"
    }
   ],
   "source": [
    "result"
   ]
  },
  {
   "cell_type": "code",
   "execution_count": null,
   "id": "e7a65c7d-1592-4137-9369-c7f95a0de748",
   "metadata": {},
   "outputs": [],
   "source": []
  }
 ],
 "metadata": {
  "kernelspec": {
   "display_name": "Python 3 (ipykernel)",
   "language": "python",
   "name": "python3"
  },
  "language_info": {
   "codemirror_mode": {
    "name": "ipython",
    "version": 3
   },
   "file_extension": ".py",
   "mimetype": "text/x-python",
   "name": "python",
   "nbconvert_exporter": "python",
   "pygments_lexer": "ipython3",
   "version": "3.12.4"
  }
 },
 "nbformat": 4,
 "nbformat_minor": 5
}
